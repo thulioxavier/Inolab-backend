{
  "nbformat": 4,
  "nbformat_minor": 0,
  "metadata": {
    "colab": {
      "name": "Programacao_GPU_Colab_secao2.ipynb",
      "provenance": [],
      "collapsed_sections": [],
      "include_colab_link": true
    },
    "kernelspec": {
      "name": "python3",
      "display_name": "Python 3"
    }
  },
  "cells": [
    {
      "cell_type": "markdown",
      "metadata": {
        "id": "view-in-github",
        "colab_type": "text"
      },
      "source": [
        "<a href=\"https://colab.research.google.com/github/thulioxavier/Inolab-backend/blob/master/Programacao_GPU_Colab_secao2.ipynb\" target=\"_parent\"><img src=\"https://colab.research.google.com/assets/colab-badge.svg\" alt=\"Open In Colab\"/></a>"
      ]
    },
    {
      "cell_type": "markdown",
      "metadata": {
        "id": "2xVpdXeooW5g"
      },
      "source": [
        "<img src=\"https://raw.githubusercontent.com/lesc-ufv/wscad2020/master/figures/logo-wscad.png\" alt=\"wscad2020\" width=\"90.5\"/> \n",
        "<img src=\"https://raw.githubusercontent.com/lesc-ufv/wscad2020/master/figures/logo-dpi.jpg\" alt=\"dpi ufv\" width=\"64\"/>\n",
        "<img src=\"https://raw.githubusercontent.com/lesc-ufv/wscad2020/master/figures/logo-lesc.jpg\" alt=\"lesc ufv\" width=\"41.5\"/>\n",
        "<img src=\"https://raw.githubusercontent.com/lesc-ufv/wscad2020/master/figures/logo-fapemig.jpg\" alt=\"fapemig\" width=\"73\"/>\n",
        "<img src=\"https://raw.githubusercontent.com/lesc-ufv/wscad2020/master/figures/logo-cnpq.jpg\" alt=\"cnpq\" width=\"133\"/>\n",
        "<img src=\"https://raw.githubusercontent.com/lesc-ufv/wscad2020/master/figures/logo-capes.jpg\" alt=\"capes\" width=\"59\"/>\n",
        "<img src=\"https://raw.githubusercontent.com/lesc-ufv/wscad2020/master/figures/logo-ufv.png\" alt=\"ufv\" width=\"79\"/>\n",
        "<img src=\"https://raw.githubusercontent.com/lesc-ufv/wscad2020/master/figures/logo-google.jpg\" alt=\"google\" width=\"105\"/>\n",
        "<img src=\"https://raw.githubusercontent.com/lesc-ufv/wscad2020/master/figures/logo-nvidia.png\" alt=\"Nvidia\" width=\"59.3\"/>"
      ]
    },
    {
      "cell_type": "markdown",
      "metadata": {
        "id": "2v0FmlFROfCA"
      },
      "source": [
        "#Seção 2: Introdução ao Colaboratory do Google\n",
        "\n",
        "< [Seção 1 - Sumário](https://colab.research.google.com/drive/1eYk9GFgFsLnfxQVMHphMyztFc0GIuZYS?usp=sharing) | [Índice Geral](https://colab.research.google.com/drive/1eYk9GFgFsLnfxQVMHphMyztFc0GIuZYS#scrollTo=vQ_qJrHy7Omj) | [Seção 3 - Introdução a GPU Parte I](https://colab.research.google.com/drive/1XagOrP8yObxfnG1E74O3uuzSeyrGuDUm?usp=sharing) >\n",
        "\n",
        "\n"
      ]
    },
    {
      "cell_type": "markdown",
      "metadata": {
        "id": "e5vQN-mYimb8"
      },
      "source": [
        "---\n",
        "\n",
        "**[Link para Mini-curso WSCAD2020 Seção 2 - Video](https://youtu.be/JJXmAVnsAMM?t=6602)**\n",
        "\n",
        "---"
      ]
    },
    {
      "cell_type": "markdown",
      "metadata": {
        "id": "ee1-DAfeZIjk"
      },
      "source": [
        "## **Programação em GPU no Ambiente Google Colaboratory**\n",
        "\n",
        "Ricardo Ferreira, Michael Canesche, Westerley Carvalho. Universidade Federal de Viçosa - ricardo@ufv.br\n",
        "\n",
        "Minicurso do [Simpósio de Sistemas Computacionais de Alto Desempenho](http://wscad.sbc.org.br/2020/chamada-minicursos.html) (WSCAD 2020). [**Links para video, texto completo e slides**](https://github.com/lesc-ufv/wscad2020/blob/master/links/readme.md)"
      ]
    },
    {
      "cell_type": "markdown",
      "metadata": {
        "id": "bMCusnNZdDeO"
      },
      "source": [
        "# Compilando usando git no Colab em liguagens de programação\n",
        "\n",
        "Originalmente, um Jupyter notebook foi desenvolvido para executar as linguagens Julia, Python e R. Nesta seção serão apresentados alguns exemplos de como podemos configurar o Colab para outras linguagens de programação  (C/C++, Java).\n",
        "\n",
        "Para compilar e executar é necessário instalar uma extensão executando os comandos a seguir."
      ]
    },
    {
      "cell_type": "markdown",
      "metadata": {
        "id": "OwIsdemibf3p"
      },
      "source": [
        "## **Configurando o Google Lab (colab)**\n",
        "O comando abaixo irá configurar esta seção do Colab para permitir executar outras linguagens de programação. Primeiro, execute a próxima célula. Posteriormente iremos mostrar como uma célula de código será configurada para uma determinada linguagem. Os padrões foram definidos pela a extensão proposta."
      ]
    },
    {
      "cell_type": "code",
      "metadata": {
        "id": "y_ZWVHXlY5cp",
        "colab": {
          "base_uri": "https://localhost:8080/"
        },
        "outputId": "ef08f226-7539-492b-a61c-08c4723775a2"
      },
      "source": [
        "!pip install git+git://github.com/canesche/nvcc4jupyter.git\n",
        "!git clone https://github.com/canesche/nvcc4jupyter\n",
        "%load_ext nvcc_plugin"
      ],
      "execution_count": null,
      "outputs": [
        {
          "output_type": "stream",
          "text": [
            "Collecting git+git://github.com/canesche/nvcc4jupyter.git\n",
            "  Cloning git://github.com/canesche/nvcc4jupyter.git to /tmp/pip-req-build-9gu3ayf5\n",
            "  Running command git clone -q git://github.com/canesche/nvcc4jupyter.git /tmp/pip-req-build-9gu3ayf5\n",
            "Building wheels for collected packages: ColabPlugin\n",
            "  Building wheel for ColabPlugin (setup.py) ... \u001b[?25l\u001b[?25hdone\n",
            "  Created wheel for ColabPlugin: filename=ColabPlugin-blind-cp37-none-any.whl size=12717 sha256=c1f6ce57b7e2e1a64aacaf62e82a0de3585f1744abc5830183bfa659125f5aef\n",
            "  Stored in directory: /tmp/pip-ephem-wheel-cache-3mu1kwyu/wheels/87/ae/09/21c6e192181a0472e20ddd1d5212e2cbb113f00ebe14330d0d\n",
            "Successfully built ColabPlugin\n",
            "Installing collected packages: ColabPlugin\n",
            "Successfully installed ColabPlugin-blind\n",
            "Cloning into 'nvcc4jupyter'...\n",
            "remote: Enumerating objects: 1147, done.\u001b[K\n",
            "remote: Counting objects: 100% (362/362), done.\u001b[K\n",
            "remote: Compressing objects: 100% (271/271), done.\u001b[K\n",
            "remote: Total 1147 (delta 100), reused 328 (delta 74), pack-reused 785\u001b[K\n",
            "Receiving objects: 100% (1147/1147), 35.71 MiB | 21.00 MiB/s, done.\n",
            "Resolving deltas: 100% (554/554), done.\n"
          ],
          "name": "stdout"
        }
      ]
    },
    {
      "cell_type": "markdown",
      "metadata": {
        "id": "Zcs12fHBv-Dc"
      },
      "source": [
        "# Linguagens\n",
        "\n",
        "O Google Colaboratory é amplamente utilizado para executar código em Python\n",
        "com as bibliotecas e as ferramentas de aprendizado de máquina. O ambiente têm dois\n",
        "tipos de células: texto e código. Nativamente, a célula de código\n",
        "interpreta e executa Python. Os resultados podem ser visualizados logo abaixo da célula\n",
        "ao usar o comando print. Iremos começar nossas atividades, executando e compilando em C, C++ e Java. Nas próximas células iremos ilustrar como codificar, compilar e executar o produto escalar nas três linguagens. A primeira linha da célula de código deverá conter um comando que irá configurar a célula para C, C++ ou Java. A extensão utilizada neste laboratório introduz algumas palavras chaves para fazer uso dos compiladores já instalados no ambiente. "
      ]
    },
    {
      "cell_type": "markdown",
      "metadata": {
        "id": "_odZntyFWjdD"
      },
      "source": [
        "## Linguagem C\n",
        "\n",
        "\n",
        "A primeira linha deve conter a palavra chave **%%gcc**. O código em C, a seguir, será compilado e o resultado será exibido logo a seguir."
      ]
    },
    {
      "cell_type": "code",
      "metadata": {
        "id": "EE5fPFoXWgx3",
        "colab": {
          "base_uri": "https://localhost:8080/"
        },
        "outputId": "2f10d9ce-87b3-475f-b5ca-3812700c8c85"
      },
      "source": [
        "%%gcc\n",
        "#include <stdio.h> \n",
        "\n",
        "int scalar_product(int *v1, int *v2, int size)\n",
        "{\n",
        "    int sum = 0;\n",
        "    for (int i = 0; i < size; ++i)\n",
        "      sum += v1[i] * v2[i];\n",
        "    return sum;\n",
        "}\n",
        "\n",
        "int main() \n",
        "{\n",
        "    int n = 9;\n",
        "    int v1[n], v2[n];\n",
        "\n",
        "    for (int i = 0; i < n; ++i) {\n",
        "        v1[i] = i;\n",
        "        v2[i] = n-i;\n",
        "    }\n",
        " \n",
        "    printf(\"Results %d\", scalar_product(v1, v2, n));\n",
        "\n",
        "    return 0;\n",
        "}"
      ],
      "execution_count": null,
      "outputs": [
        {
          "output_type": "stream",
          "text": [
            "Results 120\n"
          ],
          "name": "stdout"
        }
      ]
    },
    {
      "cell_type": "markdown",
      "metadata": {
        "id": "cY3gb3XEZw7S"
      },
      "source": [
        "##Linguagem C++\n",
        "\n",
        "\n",
        "\n",
        "Para C++, a primeira linha deve conter a palavra chave %%cpp.\n"
      ]
    },
    {
      "cell_type": "code",
      "metadata": {
        "id": "LgFVrU2Oc-k4",
        "colab": {
          "base_uri": "https://localhost:8080/"
        },
        "outputId": "a0275c3d-28a5-4b9b-a01b-35887e515ce1"
      },
      "source": [
        "%%cpp\n",
        "#include <iostream>\n",
        "using namespace std; \n",
        "\n",
        "int scalar_product(int *v1, int *v2, int size)\n",
        "{\n",
        "    int sum = 0;\n",
        "    for (int i = 0; i < size; ++i)\n",
        "      sum += v1[i] * v2[i];\n",
        "    return sum;\n",
        "}\n",
        "\n",
        "int main() \n",
        "{\n",
        "    int n = 10;\n",
        "    int v1[n], v2[n];\n",
        "\n",
        "    for (int i = 0; i < n; ++i) {\n",
        "        v1[i] = i;\n",
        "        v2[i] = n-i;\n",
        "    }\n",
        " \n",
        "    cout << \"Results \" << scalar_product(v1, v2, n) << endl;\n",
        "\n",
        "    return 0;\n",
        "}"
      ],
      "execution_count": null,
      "outputs": [
        {
          "output_type": "stream",
          "text": [
            "Results 165\n",
            "\n"
          ],
          "name": "stdout"
        }
      ]
    },
    {
      "cell_type": "markdown",
      "metadata": {
        "id": "jBtR5gWckPmj"
      },
      "source": [
        "## Linguagem Java\n",
        "\n",
        "\n",
        "\n",
        "Para Java, a primeira linha deve conter a palavra chave %%java."
      ]
    },
    {
      "cell_type": "code",
      "metadata": {
        "id": "UiwxfdOZkPz4",
        "colab": {
          "base_uri": "https://localhost:8080/"
        },
        "outputId": "06576c78-22cc-419a-e9a0-f502b800ceac"
      },
      "source": [
        "%%java\n",
        "\n",
        "public class Scalar {\n",
        "    public static void scalar_product(int []v1, int []v2, int size){\n",
        "        int sum = 0;\n",
        "        for (int i = 0; i < size; ++i)\n",
        "          sum += v1[i] * v2[i];\n",
        "        System.out.println(\"Results \" + sum);\n",
        "    }\n",
        "\n",
        "    public static void main(String[] args) {\n",
        "        int n = 10;\n",
        "        int v1[] = new int[n];\n",
        "        int v2[] = new int[n];\n",
        "\n",
        "        for (int i = 0; i < n; ++i) {\n",
        "            v1[i] = i;\n",
        "            v2[i] = n-i;\n",
        "        }\n",
        "        scalar_product(v1, v2, n);\n",
        "    }\n",
        "}"
      ],
      "execution_count": null,
      "outputs": [
        {
          "output_type": "stream",
          "text": [
            "Results 165\n",
            "\n"
          ],
          "name": "stdout"
        }
      ]
    },
    {
      "cell_type": "markdown",
      "metadata": {
        "id": "wYgxsqMvtj9N"
      },
      "source": [
        "# Linha de comando e Sistema de Arquivos\n",
        "\n",
        "O Colab executa sobre uma máquina virtual com Linux. É possível executar comandos do sistema operacional, instalar compiladores e outras ferramentas. Nesta seção serão apresentados exemplos utilizando o terminal do Colab para linha de comando do sistema operacional, acesso ao sistema de arquivo e a execução de compiladores para C, C++ e Java.\n"
      ]
    },
    {
      "cell_type": "markdown",
      "metadata": {
        "id": "gwqrRpEGudb9"
      },
      "source": [
        "## Exemplo de uma linha de comando\n",
        "\n",
        "Para acessar os comandos do Linux, basta utilizar o símbolo de exclamação ! antes do comando. \n",
        "\n",
        "Abaixo é apresentado o comando ls que lista os arquivos no diretório corrente. Nesse caso, o diretório *default* do Colab é a  pasta *content*."
      ]
    },
    {
      "cell_type": "code",
      "metadata": {
        "id": "HE_wN30Eub20",
        "colab": {
          "base_uri": "https://localhost:8080/"
        },
        "outputId": "ba3e3390-7911-4a66-c695-9ff16e322416"
      },
      "source": [
        "!ls"
      ],
      "execution_count": null,
      "outputs": [
        {
          "output_type": "stream",
          "text": [
            "nvcc4jupyter  sample_data  Scalar.class  Scalar.java\n"
          ],
          "name": "stdout"
        }
      ]
    },
    {
      "cell_type": "markdown",
      "metadata": {
        "id": "0rzuulQiTY3f"
      },
      "source": [
        "Entretanto, ao usar o caracter \"!\", a linha de comando é executada em uma sessão de terminal temporária. Alguns comandos como a navegação nos diretórios com o comando \"cd\" não surgem efeito se usados apenas localmente.  Para esta situação devemos usar o caracter \"%\" no início com \"%cd\".\n",
        "\n",
        "Deste modo, abaixo ao fazer **%cd /** estamos mudando o directório a pasta raiz do computador. Depois com o comando **%ls** nós estamos mostrando a pasta em que estamos e, finalmente, nós retornamos na pasta **content**."
      ]
    },
    {
      "cell_type": "code",
      "metadata": {
        "id": "w-954MU-Ylen",
        "colab": {
          "base_uri": "https://localhost:8080/"
        },
        "outputId": "3ae30dcc-7794-49b0-d923-e6593f534c3e"
      },
      "source": [
        "%cd /\n",
        "!ls\n",
        "%cd /content/"
      ],
      "execution_count": null,
      "outputs": [
        {
          "output_type": "stream",
          "text": [
            "/\n",
            "bin\t datalab  home\t lib64\topt   run   sys\t\t       tools\n",
            "boot\t dev\t  lib\t media\tproc  sbin  tensorflow-1.15.2  usr\n",
            "content  etc\t  lib32  mnt\troot  srv   tmp\t\t       var\n",
            "/content\n"
          ],
          "name": "stdout"
        }
      ]
    },
    {
      "cell_type": "markdown",
      "metadata": {
        "id": "JF5TEI3xvlYN"
      },
      "source": [
        "## Gravando uma célula de código em arquivo (%%writefile)\n",
        "\n",
        "É possível salvar o código da célula em um arquivo local usando o comando **%%writefile** \"nome do arquivo\". Esse comando irá salvar temporariamente no diretório corrente (*default* é a pasta content) da sua sessão Colab até que o usuário deixe a página ou perca a conexão com a página. Uma seção Colab irá desconectar após 12 horas (na versão gratuita). \n"
      ]
    },
    {
      "cell_type": "code",
      "metadata": {
        "id": "HX__6mz0Szb2",
        "colab": {
          "base_uri": "https://localhost:8080/"
        },
        "outputId": "3dba5f8f-eb58-4850-f040-bcba3695300f"
      },
      "source": [
        "!ls"
      ],
      "execution_count": null,
      "outputs": [
        {
          "output_type": "stream",
          "text": [
            "nvcc4jupyter  sample_data  Scalar.class  Scalar.java\n"
          ],
          "name": "stdout"
        }
      ]
    },
    {
      "cell_type": "code",
      "metadata": {
        "id": "FZzetqeHwiMn",
        "colab": {
          "base_uri": "https://localhost:8080/"
        },
        "outputId": "de6b334c-e968-4621-b1ca-ce246371b259"
      },
      "source": [
        "%%writefile exemplo.txt\n",
        "Hello World!"
      ],
      "execution_count": null,
      "outputs": [
        {
          "output_type": "stream",
          "text": [
            "Writing exemplo.txt\n"
          ],
          "name": "stdout"
        }
      ]
    },
    {
      "cell_type": "code",
      "metadata": {
        "id": "lrTHqhb_z1xK",
        "colab": {
          "base_uri": "https://localhost:8080/"
        },
        "outputId": "314e8609-b57f-46c2-9d42-a727b357a30c"
      },
      "source": [
        "!cat exemplo.txt"
      ],
      "execution_count": null,
      "outputs": [
        {
          "output_type": "stream",
          "text": [
            "Hello World!"
          ],
          "name": "stdout"
        }
      ]
    },
    {
      "cell_type": "markdown",
      "metadata": {
        "id": "SafvvkdJz_gB"
      },
      "source": [
        "# Gravando, compilando e executando uma célula de código\n",
        "\n",
        "Apresentaremos agora como gravar  uma célula com código em C++ em um arquivo, depois como compilar e executar com linhas de comando. Iremos utilizar vários arquivos para organizar melhor o exemplo e permitir reutilização do código de algumas células. Isso não é necessário, mas é uma boa prática.\n",
        "\n",
        "\n",
        "\n",
        "\n",
        "\n"
      ]
    },
    {
      "cell_type": "code",
      "metadata": {
        "id": "JD4wkjYv1NW8",
        "colab": {
          "base_uri": "https://localhost:8080/"
        },
        "outputId": "561f80e2-f81c-4a1b-90c1-73e37c74ec7e"
      },
      "source": [
        "%%writefile scalar_product.h\n",
        "int scalar_product(int *v1, int *v2, int size){\n",
        "    int sum = 0;\n",
        "    for (int i = 0; i < size; ++i)\n",
        "      sum += v1[i] * v2[i];\n",
        "    return sum;\n",
        "}"
      ],
      "execution_count": null,
      "outputs": [
        {
          "output_type": "stream",
          "text": [
            "Writing scalar_product.h\n"
          ],
          "name": "stdout"
        }
      ]
    },
    {
      "cell_type": "markdown",
      "metadata": {
        "id": "MJuyBbKq7_uG"
      },
      "source": [
        "Note a inclusão do arquivo acima na célula da função main.\n",
        "\n",
        "\\#include \"/content/scalar_product.h\""
      ]
    },
    {
      "cell_type": "code",
      "metadata": {
        "id": "Lfm9rCM47sae",
        "colab": {
          "base_uri": "https://localhost:8080/"
        },
        "outputId": "78871ce8-74a3-4ff9-98a7-03be56d227ce"
      },
      "source": [
        "%%writefile main.cpp\n",
        "#include <iostream>\n",
        "// Inclusão do arquivo com a função que implementa o produto escalar\n",
        "#include \"/content/scalar_product.h\"\n",
        "using namespace std; \n",
        "\n",
        "int main() {\n",
        "    int n = 10;\n",
        "    int v1[n], v2[n];\n",
        "\n",
        "    for (int i = 0; i < n; ++i) {\n",
        "        v1[i] = i;\n",
        "        v2[i] = n-i;\n",
        "    }\n",
        " \n",
        "    cout << \"Results \" << scalar_product(v1, v2, n) << endl;\n",
        "\n",
        "    return 0;\n",
        "}"
      ],
      "execution_count": null,
      "outputs": [
        {
          "output_type": "stream",
          "text": [
            "Writing main.cpp\n"
          ],
          "name": "stdout"
        }
      ]
    },
    {
      "cell_type": "markdown",
      "metadata": {
        "id": "gcPvvfbJ8Ou5"
      },
      "source": [
        "Como estamos em uma máquina virtual Linux, podemos compilar com g++ e depois executar."
      ]
    },
    {
      "cell_type": "code",
      "metadata": {
        "id": "tu0lMHIZ8VWS",
        "colab": {
          "base_uri": "https://localhost:8080/"
        },
        "outputId": "a98e643e-59b1-46ad-c11d-88e528e02d41"
      },
      "source": [
        "!g++ -O3 main.cpp -o main.out # compilação\n",
        "!./main.out # executando"
      ],
      "execution_count": null,
      "outputs": [
        {
          "output_type": "stream",
          "text": [
            "Results 165\n"
          ],
          "name": "stdout"
        }
      ]
    },
    {
      "cell_type": "markdown",
      "metadata": {
        "id": "HXfvKDAmzGP1"
      },
      "source": [
        "#  Gráficos e Histogramas\n",
        "\n",
        "As bibliotecas Pandas e Matplotlib do Python tem muitos recursos para manipulação de dados e visualização. Existem vários exemplos de uso disponíveis no Web. Esta seção apresenta, de uma forma simples,  como exportar os resultados do seu código de um código C, C++ ou Java para posteriormente visualizá-los com os recursos do Python.\n",
        "\n",
        "O fluxo proposto é bem direto. Primeiro, é necessário criar um arquivo texto formato **csv** (comma-separated values) no seu código C, C++, CUDA, etc. O arquivo\n",
        "pode ter \",\" como separador ou outro caracter. Depois usaremos comandos em Python, onde temos que abrir o arquivo com a biblioteca Pandas com o método **read_csv**. Posteriormente, usando as funcionalidades da biblioteca matplotlib podemos facilmente gerar gráficos de barras, linhas, etc. Mostramos também como fazer um histograma. \n",
        "\n",
        "Começamos incluindo as bibliotecas Python."
      ]
    },
    {
      "cell_type": "code",
      "metadata": {
        "id": "Lw3Wn6-1LZwg"
      },
      "source": [
        "import pandas as pd\n",
        "import numpy as np\n",
        "import matplotlib.pyplot as plt"
      ],
      "execution_count": null,
      "outputs": []
    },
    {
      "cell_type": "markdown",
      "metadata": {
        "id": "Z7wL3xZCWZcM"
      },
      "source": [
        "## Exemplo C++\n",
        "\n",
        "O código abaixo cria um arquivo de saída **teste.csv**. O arquivo terá **n** linhas com **col** colunas, que são preenchidas com números aleatórios. "
      ]
    },
    {
      "cell_type": "code",
      "metadata": {
        "id": "87mgdZX5zPO2",
        "colab": {
          "base_uri": "https://localhost:8080/"
        },
        "outputId": "99d6816c-38d1-4edb-ef3b-1ef0e87e26f9"
      },
      "source": [
        "%%cpp\n",
        "#include <iostream>\n",
        "#include <fstream>\n",
        "using namespace std;\n",
        "\n",
        "int main() {\n",
        "    int n = 10, col = 3;\n",
        " \n",
        "    ofstream arq;\n",
        "    arq.open(\"/content/teste.csv\");\n",
        "    for (int i = 0; i < n; ++i) {\n",
        "        for (int j = 0; j < col; ++j) {\n",
        "          arq << (rand() % 100); \n",
        "          if (j < col-1) arq << \",\";\n",
        "        }\n",
        "        arq << \"\\n\";\n",
        "    }\n",
        "    arq.close();\n",
        "    \n",
        "    return 0;\n",
        "}"
      ],
      "execution_count": null,
      "outputs": [
        {
          "output_type": "stream",
          "text": [
            "\n"
          ],
          "name": "stdout"
        }
      ]
    },
    {
      "cell_type": "code",
      "metadata": {
        "id": "RxSnkAnHco7-",
        "colab": {
          "base_uri": "https://localhost:8080/"
        },
        "outputId": "db6e3b98-77ea-4b7f-e666-326fdc96ef69"
      },
      "source": [
        "!cat /content/teste.csv"
      ],
      "execution_count": null,
      "outputs": [
        {
          "output_type": "stream",
          "text": [
            "83,86,77\n",
            "15,93,35\n",
            "86,92,49\n",
            "21,62,27\n",
            "90,59,63\n",
            "26,40,26\n",
            "72,36,11\n",
            "68,67,29\n",
            "82,30,62\n",
            "23,67,35\n"
          ],
          "name": "stdout"
        }
      ]
    },
    {
      "cell_type": "markdown",
      "metadata": {
        "id": "pQUsHU1aRVB6"
      },
      "source": [
        "## Analisando os resultados\n",
        "\n",
        "No exemplo utilizamos três colunas. A seguir, iremos ler o arquivo gerado colocando um rótulo (ou **label**), com a biblioteca **pandas**."
      ]
    },
    {
      "cell_type": "code",
      "metadata": {
        "id": "FcboaGO7Rbi3"
      },
      "source": [
        "label = [\"G1\", \"G2\", \"G3\"]\n",
        "df = pd.read_csv(\"teste.csv\", names=label)"
      ],
      "execution_count": null,
      "outputs": []
    },
    {
      "cell_type": "markdown",
      "metadata": {
        "id": "Dz889VPbRh3w"
      },
      "source": [
        "O Comando df.head() imprime os 5 primeiros resultados em formato de tabela. "
      ]
    },
    {
      "cell_type": "code",
      "metadata": {
        "id": "Xe7HbnV7Rg0o",
        "colab": {
          "base_uri": "https://localhost:8080/",
          "height": 206
        },
        "outputId": "c1ea54b8-4f96-4c73-bec8-2d16e0b0fdc6"
      },
      "source": [
        "df.head(5)"
      ],
      "execution_count": null,
      "outputs": [
        {
          "output_type": "execute_result",
          "data": {
            "text/html": [
              "<div>\n",
              "<style scoped>\n",
              "    .dataframe tbody tr th:only-of-type {\n",
              "        vertical-align: middle;\n",
              "    }\n",
              "\n",
              "    .dataframe tbody tr th {\n",
              "        vertical-align: top;\n",
              "    }\n",
              "\n",
              "    .dataframe thead th {\n",
              "        text-align: right;\n",
              "    }\n",
              "</style>\n",
              "<table border=\"1\" class=\"dataframe\">\n",
              "  <thead>\n",
              "    <tr style=\"text-align: right;\">\n",
              "      <th></th>\n",
              "      <th>G1</th>\n",
              "      <th>G2</th>\n",
              "      <th>G3</th>\n",
              "    </tr>\n",
              "  </thead>\n",
              "  <tbody>\n",
              "    <tr>\n",
              "      <th>0</th>\n",
              "      <td>83</td>\n",
              "      <td>86</td>\n",
              "      <td>77</td>\n",
              "    </tr>\n",
              "    <tr>\n",
              "      <th>1</th>\n",
              "      <td>15</td>\n",
              "      <td>93</td>\n",
              "      <td>35</td>\n",
              "    </tr>\n",
              "    <tr>\n",
              "      <th>2</th>\n",
              "      <td>86</td>\n",
              "      <td>92</td>\n",
              "      <td>49</td>\n",
              "    </tr>\n",
              "    <tr>\n",
              "      <th>3</th>\n",
              "      <td>21</td>\n",
              "      <td>62</td>\n",
              "      <td>27</td>\n",
              "    </tr>\n",
              "    <tr>\n",
              "      <th>4</th>\n",
              "      <td>90</td>\n",
              "      <td>59</td>\n",
              "      <td>63</td>\n",
              "    </tr>\n",
              "  </tbody>\n",
              "</table>\n",
              "</div>"
            ],
            "text/plain": [
              "   G1  G2  G3\n",
              "0  83  86  77\n",
              "1  15  93  35\n",
              "2  86  92  49\n",
              "3  21  62  27\n",
              "4  90  59  63"
            ]
          },
          "metadata": {
            "tags": []
          },
          "execution_count": 17
        }
      ]
    },
    {
      "cell_type": "markdown",
      "metadata": {
        "id": "aJE2-FJZV4K8"
      },
      "source": [
        "## Gerando um gráfico de barras\n",
        "O método plot irá gerar um grafo de barras para a primeira coluna do exemplo que foi rotulada com **G1**."
      ]
    },
    {
      "cell_type": "code",
      "metadata": {
        "id": "jf9oBQ-oEhgV",
        "colab": {
          "base_uri": "https://localhost:8080/",
          "height": 279
        },
        "outputId": "0e2c806f-3f11-4aed-a2c1-5201c34176b3"
      },
      "source": [
        "df.plot(kind='bar',y='G1')"
      ],
      "execution_count": null,
      "outputs": [
        {
          "output_type": "execute_result",
          "data": {
            "text/plain": [
              "<matplotlib.axes._subplots.AxesSubplot at 0x7fa4dd259fd0>"
            ]
          },
          "metadata": {
            "tags": []
          },
          "execution_count": 18
        },
        {
          "output_type": "display_data",
          "data": {
            "image/png": "[encoded data removed]",
            "text/plain": [
              "<Figure size 432x288 with 1 Axes>"
            ]
          },
          "metadata": {
            "tags": [],
            "needs_background": "light"
          }
        }
      ]
    },
    {
      "cell_type": "markdown",
      "metadata": {
        "id": "D-MMKcHFbBT6"
      },
      "source": [
        "## Gráfico com linhas\n",
        "\n",
        "Para cada coluna da tabela gerada iremos usar uma linha com cor diferente."
      ]
    },
    {
      "cell_type": "code",
      "metadata": {
        "id": "It55e5JgFmtY",
        "colab": {
          "base_uri": "https://localhost:8080/",
          "height": 265
        },
        "outputId": "7b2dcf92-6e40-4807-8ba7-b2dcf9d008a3"
      },
      "source": [
        "ax = plt.gca() # gca = 'get current axis'\n",
        "\n",
        "df.plot(kind='line', y='G1', ax=ax)\n",
        "df.plot(kind='line', y='G2', color='red', ax=ax)\n",
        "df.plot(kind='line', y='G3', color='green', ax=ax)\n",
        "\n",
        "plt.show()"
      ],
      "execution_count": null,
      "outputs": [
        {
          "output_type": "display_data",
          "data": {
            "image/png": "[encoded data removed]",
            "text/plain": [
              "<Figure size 432x288 with 1 Axes>"
            ]
          },
          "metadata": {
            "tags": [],
            "needs_background": "light"
          }
        }
      ]
    },
    {
      "cell_type": "markdown",
      "metadata": {
        "id": "Bci_LRRzeM7o"
      },
      "source": [
        "## Gerando um Histograma\n",
        "\n",
        "Iremos contar a frequência de ocorrências de cada valor da primeira coluna rotulada com **G1** no nosso exemplo e gerar um histograma."
      ]
    },
    {
      "cell_type": "code",
      "metadata": {
        "id": "heg17c2PbWeu",
        "colab": {
          "base_uri": "https://localhost:8080/",
          "height": 265
        },
        "outputId": "6f93d709-64e8-493b-cb44-8f6d673068c7"
      },
      "source": [
        "ax = plt.gca() # gca = 'get current axis'\n",
        "df.plot(kind='hist', y='G1', ax=ax) # default de cada partição é 10.\n",
        "plt.show()"
      ],
      "execution_count": null,
      "outputs": [
        {
          "output_type": "display_data",
          "data": {
            "image/png": "[encoded data removed]",
            "text/plain": [
              "<Figure size 432x288 with 1 Axes>"
            ]
          },
          "metadata": {
            "tags": [],
            "needs_background": "light"
          }
        }
      ]
    },
    {
      "cell_type": "markdown",
      "metadata": {
        "id": "Rv0PpctyUTbu"
      },
      "source": [
        "# Arquivos\n",
        "\n",
        "O Colab tem um sistema temporário de arquivos, que é apagado quando termina a sessão. Mas você pode importar ou exportar arquivos para sua conta do Google Drive, suas pastas locais no seu computador ou para outro local como um repositório github.\n"
      ]
    },
    {
      "cell_type": "markdown",
      "metadata": {
        "id": "3d1MrorKZi5K"
      },
      "source": [
        "## Montando o seu google drive para o Colab\n",
        "\n",
        "Este recurso é útil para obter acesso aos arquivos armazenados em seu Google Drive. Como sua sessão Colab é temporária, este recurso permitir salvar seus modelos e dados no Drive para uso posterior. É bem simples, basta  inserir o seguinte trecho de código:"
      ]
    },
    {
      "cell_type": "code",
      "metadata": {
        "id": "3KCaJmPsZ72x"
      },
      "source": [
        "from google.colab import drive\n",
        "drive.mount('/content/gdrive')"
      ],
      "execution_count": null,
      "outputs": []
    },
    {
      "cell_type": "markdown",
      "metadata": {
        "id": "VwOnx92HbgbQ"
      },
      "source": [
        "A célula irá retornar o seguinte resultado:"
      ]
    },
    {
      "cell_type": "markdown",
      "metadata": {
        "id": "rq3mJz6nbTlj"
      },
      "source": [
        "![image.png](data:image/png;base64,iVBORw0KGgoAAAANSUhEUgAAArwAAACeCAYAAADQQdlXAAAgAElEQVR4AexdB3hUxdpeL9Zruwp2BPRaUOndQhdEQIp0EAW7iIiiIlZEEJSqIjYUkNB7CZ3Qe4DQIb33skl2z55tef/nnZNJNstuCkR/yJ15ns1mT/nOzDfvOfPON+/MMUEl5QHlAeUB5QHlAeUB5QHlAeWBCuwBUwUumyqa8oDygPKA8oDygPKA8oDygPIAFOFVIFAeUB5QHlAeUB5QHlAeUB6o0B5QhLdCV68qnPKA8oDygPKA8oDygPKA8oAivAoDygPKA8oDygPKA8oDygPKAxXaA34Jr9vthqZp6qN8oDCgMKAwoDCgMKAwoDCgMHBZY6BEwmuz2aA+ygcKAwoDCgMKAwoDCgMKAwoDlysGFOFVhF51aBQGFAYUBhQGFAYUBhQGKjQGFOFVAK/QAL9ce6Iq3yqKojCgMKAwoDCgMFB+GFCEVxFeRXgVBhQGFAYUBhQGFAYUBio0BhThVQCv0ABXvePy6x0rXypfKgwoDCgMKAxcrhhQhFcRXkV4FQYUBhQGFAYUBhQGFAYqNAYU4VUAr9AAv1x7oirfKoqiMKAwoDCgMKAwUH4YUIRXEV5FeBUGFAYUBhQGFAYUBhQGKjQG/nbC6+/lFarXUn69FuVL5UuFAYUBhQGFAYUBhQGFAf8Y+NsIL4ludnY2MjIyEBkZibNnz+LYsWMICwtDdHQ0MjMzkZOTI97aoSrIfwUp3yjfKAwoDCgMKAwoDCgMKAxcHAbKnfBKohsREYGDBw9i8+bN2LhxIzZt2iT+5zc/W7duxZEjRxAbGwuLxVKhw+gKpBcHUuU/5T+FAYUBhQGFAYUBhYGLwUC5E960tDRBdEloSXa3bNkiyC1/yw+38cP927Ztw9GjR2E2mxXpVfohhQGFAYUBhQGFAYUBhQGFgXLHQLkSXsoXduzYIcisL6IrCa/ntyS/+/btExKHi2Hv6lzV+1MYUBhQGFAYUBhQGFAYUBjwxkC5EV6r1Ypdu3b5jOh6Elx//5P4UuJASYR3Ji/2N20eefsclpjCsNIUiiUvxcGSU/7Xudh8/pPnO21JWDyiOyqbTLjCZMI1fZZBgxv6JdGr1OGGDevfrI4rKl0Jk+laPPnCb4jT3aXEhhN2504MM12D0QdsgFMv5XleDwiHDldoAlaYzmFV/zhkQr9E/JOfT82K3BQrLFavfJe1DnU3kBWIdiYTfjkFwFE6ey7oCBrxCEwmE344AsBZuvP+SZyra6k6URhQGFAYUBggBsqF8Oq6jhMnTlww2SUJJuENCgoSE9rKE5wOWBHyeiiW/TcasXAgD3awoS7Pa1x2tjQNmqbDBSOdm3Edrum94hIivMyfBmd+/o7+PgL1e04vA+F1wO7cjRFX3oyxhy6C8Np1OGJTsbtdLPaMT4H5UsKNrsOREYflpnPYd8YOZylJqk+skvCaN6CT6Qr8frr0hNcJHUd+fQ1tWjyJFaGA264eqj79W9YOiDr+f/v5rOpf1b/CwN+CgXIhvNTtSimDvwhuabZT0xscHFwgbSDpycrKQnp6OhhBvpDGxIk07KgUhnUL0pGXZ4OmqUbZ048klQcnXYtr+1xKhNejjqwW7Jg2FA16/fTPE152DHQdJHb82Pj7UnkQCcIbjzWmMBw6Z4fjHye8RqfEkWf0Slx2/vaot0vFTyofF/Tc9HxGqP8VrhUGFAYqAgYumvAyuhsaGiompHnrdklgT58+jaioKLE0GZcnk5+QkBAxac2TCMvzSXDj4+PFhLZffvkFixYtQkpKygXJHZxIx85/h2LD8kw43R6g1W3I3hiH7a+mIPRQGnY/E42gJjHY2S0JyXLoWtehxSZi26PcF40tNWNxJpbEW0PWmTTs+y4JZ5YmYHvTaOzbkoW0eXHYdH8UDm7OgbUUjb/dBRz4rRFq1W2CJk3yP/XroPlfxwG3A9wfu+UttHyqMZo0bow2fV7DligdDt0oh65l48iib9Chdl00blIXjRv/jjC44Mhv5IX9XxueZ7/FXMM+AVws4bXnImLdDAyoVQeN8u2He9gv8QYQBdiM1i2eFPmv220QZp1Ih9NuRNg1czIWjO2J2nUbokndWmgy8xDgshdtoP0RXt0OpIbg9f7PoXHjJmjcuAUGv7sN6XDBZsuP8F51C8ZtDMaYtzqgYaM6aNJkJkqbf92cg9DPY7C1QQyCGkZj16L0AvzYkY3jI2Kwd10mTgyPwpbPU5FzMglBjWOwo0cCYp125IQkY8d7CUixpGJPzWhsrRONoImpyJVSGrsNOeHp2P+8gbugljEI2Z4Fh5QF2FOx98lYnD2cjtPDY7G1UQyCmsbgRJQO87kM7OsZjW0NI7DCFIbAujHY1jQGWx+Lwr5tVuj5+CipftLC12J4zcdQv0lTNGtUE7dc8S/MYoQ3Lw+2E7+iZbMfcdQWhRkDHkGdOnXwSN/JOJOZC92mIeXkGrzTsRYaNmqAhvWHYmdWHpy8ru4Ecg9gRJMmGLc3u0BOws0xq4ej1XMTcU4H7A43cHYx6tVviCYNG+DRlz/F7lg1cbWkOlP7PZ7hqjNT9Fmp/KH8oTBQLAYumvBySTGuskCyKgmrJLFcfiwpKUlkgNFazw+XLZPLk8njeT63xcTEYMOGDRg4cCDatGmDF154ATye55f2gZ9xKhubHgjFyqvCsMIUihVXhWHVNcb/25aYYdVtMC+OxCJqettHIynCAmt2Ora1DMWOKamwwI60TdFYeXUY9h+1wWG3IWZpHFZfHYqDiTaYjydjc4tzWPVdCmJnR2BZ+3BsfyYWBz+Iwqr3k2GxFJ9XB4CTf9TAVVd9hRDYgdi9aF+7MpqN3w6LpsHhzsL+LwegysNv4kBCKrIzU7H759dxU+OB2B5jhs3uxN7JLXB3w07YH+uEVQc2j74S/6n2Lo7qAANvJ/+ojquuGpNvfw+efuxWPD5hh7Av/eif8OqI3z0RzR9siWWnzNBo/8srcdt/ZyEOgL2EG0t3uJG87yvUus2EEctiYckxIzcmGMs3bkVEmhO6Ix4Tn7oGjbuuQBw1tjiCLytdhfve2wyKLQq0xH4IrzM3Br8tXoRdx+NhzjIjJXY3Xr7vdgyeEAyzyy0kDR+ZTHi4yzCMXnkKFlcaZnashGrvbClq3185NA3WHA2604wD3cKwdlpKgRTGATP2dw3Dmn6R2L8oCbvfD8MaUxROZCVi43URCDmVi+zDCVh7ayhW3hCOgyd0uBLSsaPmOWxeYYHdriHtSBLW3xKG/YHZyDVryDobjzVXhiF4TSYsDh02RxI2mEKxzBSO3TMykK3riP09DCvui0GETYct1wY90Yjw0r6eq8GSpcFaAu5Evesu6LEL0O7GO/HtXjNsVg325NV4VkoaANgOTMBtN1+Ha2+4CR9vyQQQi/nNHkKlkasBpx2a1YLsXA048TsqmZ7FmgzALYg2a8+MOZ1MuOONjfm+NrbNfu4K3P/LSRESth38BlWua4eAKAt0WzK2f9gTt/T4BklmtUShvDfVtyK3CgMKAwoD5YeBiya8fHkEZQjeZJckluQ1OTn5PJJK4uqL8Mpz+HKKw4cPo1OnTmjRogV69OghrlFawiuOs9vgIJFEBnZdH4qN67NI08TQtIii6TZkLYrEogejEZlghT1ffxj9UwSCXkpDNs+7KRTrVmUVSCFcyML++8Ow4otEmMNSEFglDIeDcpG4MhLL/hWB49kaIt+NxJKeJHjFEV7mKwKT/vNv9FieBLh0OOBEyPgnYXp6IpIY5Yzbh4FPdsd3m2Kg5RMJZ1oI3nyqMd6Zcxw2bQteNl2PSZxk5KJUww4HTmD4jdei04oYAFGYdPN1Rewf/eYJmJ6ehGSXvYBQ+iO8ukPD7y+b0HbqGbjhhI32847i4xtvwJf7rAWRO383o9Mai+n9nsKwabvAUQDWiWaj1tSIXFs3vw/TjUPAgKLLpkGzA+5jP+Cmf1fByigGevNB7ovwCls6XE4n7DrLrsFuMWPF193QqN9niMmCILxDTNeh8y/iCrDZ8+A8MBnXXn87Vnva90d487eT3B7s4YPwdg/D6ofiEW/Nwq6aZ7BhkQW6loh1lcJwKCgLOUcTsOaqc9h1xg63ywY7LDj7dRSWDo+DTdcQ9XEYAoemIlNMqNNgs1oRNzYcy/ukIC3LILzrTWHY+UcaNKEd1mGLi8fGWrE4l6DD7qCG98IkDazzDcNNuGv4PnofNm8Nbz7hvenKKzBDRHxtxmjDui6oMWAmUt0OAz/UM4TOxpWmjh6El50EIGnNIFS+uTd25QBOHpe8CM1Nt2BxNPluPH5rWhM9fjsmJshpugMwH0LL6q0x8UCaESkuoV784U5tL7/GQflS+VJhQGGgImHgogkvNbZcUqy8CC9lEMePHxdvZnv++ecF4e3SpYsgwKUlvJ4VVCBpWHa+pCFrYSSW1opDVKoOXTci0LogxXa4I5Ox/sZz2CmiuySvGux5doTPjMCKBjEIj0hBYL9IJMRakbIiAsuvjcBZWBE+LBJLepeC8NqjMb7tjWj49g7kcvqYnoLfBj+KmhO3IM9uQ+Lhv9CidXMEHEsxIuQ2G9z2JPw5sCn6jdsCffs4mK6vjaAUkkMjfzabC3M+uBItP9gHN+Ixvs0NaDh0Z4H9Xwc9gpqTgpBn1wu0qL4JrxMOy3q8YLoafSbMxfy/ZmP27DmYPftHPP/EreixJuZ86YEXQbHE7kTftl0wNShWRNOL1gmw42sTbqg7H6mcRkj5h+aAjRPNrqqMj/ZmFRJqX4SX19LtyE44hJWL/8Cs2czfTHzxUgv0eHEMYswG4f3gqv/g26MOg1TZnNBSlqPndXdi0hEb8hhF9cqzr99+CW/XMKz/MxWOpEzsePQstm/OhZZPeIO3GYR3daVInIUNdk2D7rYjdkksVrSLRrymYW/Pc9g5Ph3ZlNmw/HYrEhfEYGWrWKQkWUWEd/0VYdi/MQNO0aHRYNNF7Bt2YvWCNbys8RMYbTLh9SCL6GxpPgnv17ix0jNYkuyES3QqrNDFLMe8Qi2zT8LLDogOe14EJjx2HYauThYR3XPTW+C2J1Ygjb9ig/DkI0/gxbE/Y46ouzmY/9dkPHdnJYxckVjY2SlF/fiqM7VNNdIKAwoDCgMKA94YuGjCy9cHHzp0qNwIL6PCfA0xtb/du3dHy5Yt0bVrV3GNv4XwPhaHqBQSXg9w2HW4YpOx/oZQ7I+1FWhm7bAj9McIrKgXg/DIFAT2jERclBXJJLzXROBMXikJr2ZoZ/eNuRcmUx10e+1lDO7eFu0GvIMd57KFRjLpSABa9e6IlaFZBdFYly0evw1oit5jN0PfPQGVbnwJB3VyQ5l3HX+8fSVavr8HOoB9X1X1sj8MO/PtSyD4Jbw5GzHAdCWeGTEJ30+djEmTJmHSpMmYNjMAW6Oy4JQRWD+khIR3QIeOmLolClavYyjn2DP+X7h58DpwATJDvuCAzbYdQ66qjA/3lEx4c1KO47tX66HTq8Px7aRJmDzpWwzt1hBdXvq6gPAWXaXBCS15OfrdcA/mhXlEkL3yJv0iv4sjvOtmpEJPNgjvtg2+CG8ETjO6a7NBd+uIWRCLFR2ikahp2P9mKPbNzYClQLNrRUJADFYIwqsZhNcUhn3rMuBwyfr1+L5gwsuVSs5g3BUmDF5vpg7BT4SXhLcNFiU686UKHteWPvNDeNk5tNmc2Pb9M6j7QgByEIXPHq2P8cctDPcCcUFoW6shugwfg8kCV8TWFEyZNhV7wol/H9dS20rVQZO4Vd8KQwoDCgMKA0UxcNGENzc3V6yfW14RXhJeTnLjMmft2rUThLdPnz7Yv39/mTS8sqJLjPD6IrxiMlcGdt8Rhg1LM0WEjfYcyMS+/4Zh3Z9pyDqdjLUXSnjtTiBxM+rc2QaTd5zAqWMhwodRSZkFjZo1fj8Gt+2B8YHhsOQTWj3pIF55sgfGr4uEbg3Ca1feiYkh9vxoqAM2/QBG3n4rRu+zAWlbUPsO3/Y9Z9P7JLyM0Dmj8U2L69B9bRIANxwOR8GHBM7ofOiwWiIxseMtaPfqaERkoiD/7sxwvN+lAfpO3Ihs73VinYBlywe46u4hOGaH0aFw5MG2fyLuqNIPezkMLkm8zwivFdGbJ6FOzXZYeiZD5MvpsGDPjFfQr9+XiM6P8HoSXg6zxy7qi1vvfBHBVl6zOMlJ4U1SXoTXgWwcezYCq75hxF5D1BfhWPdOKjJkOS0WRH8ejrVDU5FhLZQ0+CW8NspgkrHJFIbdu7ILMCpx7/+bXYxMzG5rwv2/n+EaZBC8dUEz/Nv0L8ymhEFIGi6G8NrECELyyVV4a0APbF03DVWf/gahxJVNB7Sz+LDRA/h0RSzcrkJcEWPseHri0385CutIHaN8oTCgMKAwoDBQEgYuiPCS7PBDOUNCQgJOnjwpIrzepJfkNTw8XKywQC2v/HAiG8/hfjlhjd88n5IG2l28eDGee+45QXj79+9/wevzXhjh1aC77EjbHI0VpnCEZOpwOnXErIjDyn9F4myeDVlHky6c8FKzqB/BK1WuxphtGpy2XLDjID4WqyALDrcZBz7tjRufG424dDMsuZnY/fNreLzdOziewiFwJ/ZMehr3PTkGZ60uoZsMGmPCLdVnIZ6MRT+MVypfha+3+7bPJbasFgtsTmDfd9fimt7LkAM7rLw+61e3I2zhMPzrgRZYfc4qJil55k8AS3chN/QPNDCZYGrYHUvOZhjROY2aTxvOLn4HVU0P4IcjqbBZLbDFH8HyDZsRzklrzgR89/TVaDF2H6wuJ5w4jq9MV+A+wbgcYtjcaslFbk42gqYMQYOePyLaYofFYqySkRQyF61vrIVxa0ORrdkQteQ98QKEVq9PQKwgvHvwwVU3Y8x+C1x2B/Iy1qGT6V94e2uuMYxfwioawgcWam/NOPB8GNZOSTakBVZ2fIxJa6WK8NopabAheW8KAv8TjmPxVhHBTwtOwtpm4Th1KBtWiw3msHisrhyBM4fN0LmKhSMJ1PD6J7zMWxb2dAjF2joJSKTON9e4L4u/6YltIHb+87iuymAxQqDv/Q53D+yOrlfkr8NbEuElPqxW5GoO4MyfuNL0LFalumC3WmAtmFiqwZYeibGfDUD7FtXx5fKTotz0q90NRK/piOtNj2N+nA671QP7Beerh3fx9aj8o/yjMKAwoDBQFgyUmfByAlJcXJwgpF9++SXee+89BAYG+l2Hl6R248aN531IbD3JriS8lEfQ/rRp09C8eXNBeEePHi1We2BjWZbC8VhGZYObRWP3ZnPRoWEuS7YhFpt6JCEu/Xw9J6/FGBpJ7/rbIrH+7kgEtotFol0TmszMM6nYMSIOSXFWpG2NxZYmsYhwWREzIQ6bPkyEJbe4vOqwWbJxdE5/3HR7NVSvXg3VqlVHjbuuh+mht7EpMQtOLrsFK/a8+jweqnYv7r33XrR4/lWEaYZml/lz6BasGNcBt99+N6rdVRk13twionMOkjmLGUdn9zvf/sNDsSnJDFfaaXz1clPcedc9uO/Buqj7yH9R9c470Oz1b3A2lTeRBofLjnPLxqLJ7Xfg3mrMYzU0ePIznNApizW0p1YtHjP6VUPPYd8KKYExnG0QL0o+M3e/ijoPV0O1e+/F7c274dcTmchzGDpPW04ovn6mMu64+17cVaUK3tqaIyKOVpsDsIXg4yZ1xXXvf7Amaj3yIKrfVRm39ZqJFBdfHmLF2d8/R8uq96Ba1btQ/6OtCNs6CZ+M/AkJ2U7Y9DxsmHIf7r6rmrBxe5Uq+OMsl9yS0eniHxTmaDP2dgvHursjsfmRaGx5MArr74jA5lHpMDtycOzdaOxamA49zYxD3SNxcLcFmpaCnQ1icPJQNrKPJGDtzWFYUz0SG6pGYl2zGERE5UK3GxFMe56GpM1J2Fo7EuurRWJD7RicjMyFS64VbU/FrnrROLYzC3YpeygyrE8f69BdqdhVNRIb7o3EulvDsWODVUzkK+4+kaRz63f34Lb/3IabXp6KTERhZt16WBwB5LnzYDv+K55o8Bo2pDgKo+3y+loOQhaPRuNbb8M9NR5A3bqP4r/VquL2Os9iypYo2PKXnbPbzDg4ayTq3fom1kZmGFrl/NEBylrygkej2j1VBa6q3X0b/tPuK5zKzC3zPV5cWdW+4nGu/KP8ozCgMPC/goELIryM0L755ptiQlnr1q3xww8/iIlr3gS2LL9ldJhLkp07dw69evUCbXfo0AGzZs0CtcJlrxRGokh6GaH1Ijokzy5jEhDXFfU1jCpIb/4xfPEA39BWMORqN15GILS/TuN/RvL0/OOKyyuH1zO3v4NKpvux2JjTI4gqEIPRN5pg+no339Mq8i7fhpZ/ABxF8srhac/kEpFRRvAyt72Nf9F+iuf+aHx5gwmmsbRf9EzPo+ziGsZLFrhcqnfiJCzDXyT1VAsbyTiv8OGhaXKikzwC+WSX53ESFmmPR3IZqzmIFzxw2QafyQ09//pFz3bBke8soz61gjfJSTN5Dpnvwjz6qifWu00nboxVPeSLJ4xvg+gLTLmNoXseZ6yfa+CA+zIPxmP1vyJxDnbk5WPCzpdDiE6bkQ/dZRwv7fPlEeLawv/5trxxK0mn+Db8L893Mr/i+OLLxzLzOp7Y0jXmk29Ly4/wU+fANRzEZM6i9vjyDS6x7DM55Yochm+cBS+mMH5Lf4tyUk/jlYRcpkgZi15bnq++lV8UBhQGFAYUBsqCgTITXmmcJPfpp58WpJTklJHcnTt3+py8Vlriy+XN2BBOmTJFrL/LNXgHDBgg9LvyuhXhm4TXvOczVL66Kn49aRevZKWsN/nQKDS+2oRX12WKYfcLLath/1PcevW9+O2Up/2P0ehqE167SPsXmq//mfOc+YS3UuGktf+ZsiuyegEdc9VoqftDYUBhQGHg78bABRFeyhqio6PFiyG4igI/Y8aMERpdKU0oLcmVx5Ms8xXFlDr07NlTEGlGeEeNGgW+3IKOMKJfFQMUut2JqMWDcM0Nt6Dyrbfi1so3opKpK/44fA7ZuSxjcZKIkn1g2H8JVxfYvwGVTN3w55HQcrH/dwPzsravCK8ifYr4KwwoDCgMKAxcUhi4IMJLMsKJZdOnTxeRWBJTkl4uXcXXDO/YscPnq4a9SbCUMezevVvYo373rbfeElIJRne5LBltuVyuCkV2C8j7eePCbrFiAYeML5bwic6BL/vsOJSD/YvNX0U+X/he56Qy3ZBfKH9fNJ4rMl5U2S7+ead8qHyoMKAwUBIGLojwykhrZmYmPv30U0F6W7VqBb4oYsaMGeLFEXx5xK5du/wS36CgIOzZs0est5uSkiK+SXbbt28P2iLZ/f3334XCT16vpMKo/QrwCgMKAwoDCgMKAwoDCgMKA94YuCjCSyLKqOz7778v1swlUWWkd+TIkSCh5QskuJ4ulyA7evSoeD3wsWPHxO/IyEjExsaKiDA1u4MHDy5YlYFkd+LEiUhPTy94La13xtVvBWaFAYUBhQGFAYUBhQGFAYWB0mDgggivp2Gr1SrILVdt6NSpk9DekvR27twZI0aMwNKlS8WSZKdOnRJE98yZM+I1wWvXrhUSCBnVpSyCMgZGeLkqAzXCdru9wkkZPH2n/lc3qcKAwoDCgMKAwoDCgMLA34+Biya8rCROYtu3bx+GDh1asHKDJLBt27ZFjx49wLelcTWHl19+WUxK69KlS8FKDCS6/HCy2uzZs5GamqqIrtJ9Kt2nwoDCgMKAwoDCgMKAwkC5YOCiCS9lDfzwtaBcTYEvjCCxZYSXrwYm8eWHcgfPb/5PMsxjqP3lKg9yghpJdPnrdnVknl2KVp0aYdahxNJP3NKs2P9DH5hMj2Lqtmho8lWw/wsA1KzISo5FbFwyLMW8mUy32ZCy+0c88vwoHEwyewDTARciEFjlBsy++yeEA+A6q756slxT98DIa7Dgw93IgsvnMb7Ou6hteg4yz51DpvniVsTwm4d8+1mlsJ+bdhbrBj2MnWujYXGc/yIUv9egP3U7XCl7sPaRblh3JM2vj71t6FoGzk15Eb+ansGuU3zlse+6udDtuiMHETPfw5+0f9rDPtfN0w/gxRsfx+T9GbCXtbzlnM8LLZ86r3zxovyp/KkwoDDwd2LgogmvzJwkqG63W+hyZ86cCb4hjZKF3r17iyhvt27d0LVrV/E/19el5GHy5MliDV++tlbakN/Sdvl868gMXYmOvVoi4HBSGQivhrDNP6PDoM+w4XTK/xTh1bVMrB/TFd36fIU4s9M3IdI0ZJ7ZiJfaNcXIuftgseoevuWLG5Kw5fG7Ma9FAOL4CgZfZMXuhiV9BZbe0AoHzYCTLzvwdVy5bnOI1xkvr3Q11m7LhctVRpJZYl4ccOAYaD9wu6UE+3Yk75qIJc0/QIwO4xW8Jdr3eDDqdjhT92ND437YFFJ6wmvTspGw4Xds6zMFZ2MzfddvWfLhfazdgugloxFwe18Eh6UV2udbDN1A8t6BqH1jN8w4kQKH016439uO+q18ozCgMKAwoDBwkRgoN8LrSUoZ7SWB5VvTwsLCsHfvXkFqqdvlUmRca/fw4cNi0hrfoEatrjyfZPdSIrzirVL5r4ty2uWbsjzIxkVWgCz3pfita1nY/N0AvPDyt4jn63p9lFWz5mLhV3XQbth8pOpuQdYKj+PbwjTsev1uzB+yHhl8V50PG4wDn/yuJf4aFAgznAWvoC2083f4m4T0JNZUuR0bd/1dhDff/u7iCK8O3ZmF3UNqYe3Uk7DCUfbyXyDhJbZ1pxtO5InXEZd7J8NuQ9zWSZjf+dXzCDXvcUb1Twf0Q626A7Et0SGW5Pt76/zvwJGyqepMYUBhQGHgcsBAuRNeb8LK39T4cnIbP3SK/PZ00N9BcjlyqgV/jzqPPoAaNWqg+t23wvRAZyw8lgRNdyBm9Xg82WMGju4di5YN70GNGtXQpPl8xJMA8NWqZ28rgGsAACAASURBVBegWrXqqHFvVVTp+ApWhWbmDxdrSD29Cv27dcf8I4XRYqctCYveex49x6xEtoWvp9UQf/Av9Gl0G+6tdg+qVRuE7dl8iVpJN4eG5BPL8cUXn2FdQH/UvO8OvBeYgL2/DcG/r2uICYFnhcRA18w4MGcUGt12J6rVuBPVqk3DWbjhsPE1sfH4q9EjeHVlgnhrm/DFkcl45L7xOOJ2wJl0HB99+ilWRBzBzNqP4u7q1VG7XW+si9DFK2aDf34Id9xVHXfeej2uv+EW3Fu9hvBh3WatsCMBEORfd8ISsRDdq9fA0jDAWfDqXI/y6RrMcaFIj8+E1Ve5dSdcKTuxqlY3bD5jFnYLiZcd1px9WPfAw1jaoBaW/PcDHE3MyifNdjj1COwZ2A3L6zfAsvpPYMPQrUgRcggHdMdRbHy8LQ6fOIs9r7TFsnqPYlmD34WswhK7C9sGtMayBrUxr8ptmPdYAyxv2ADLaj6IlfNOws6OjU2HA6kIHtwby+vXx7J6T2LDsCDDvu6EnhSI1S2/xJGwzdjapyaW1XoUy4evQRrykBu7E9v6+7E//1S+/XwfOdywH/8Dcx98AUez8oqsw2xOOISNXR/E0roNsKxB/ueZ7gg5q8PudMGRtQOra9cV+5bXq4m5N7TEpmPpsOsaUo8tw6pRo5AasxfrHm+KZfXrYVnfIQiN0aHbXbAlBmLFw49iWd1aWNTlC4TFZ+V3aHQ40k9hd+/W2LAhVrxKm/cpl3SO3vwSltebirNwwGF3why2Bhufe8rIW8uncfC4DY4i8gQNlqwUpEfHIcdi3PuF97wRxbea4zC60/Xo/elBmPMcPjtVhed44MpHx0kdp/yjMKAwoDCgMOAPA+VOeP1d6J/ezkY9ac8o/PfGLlidnAu304WciDXo3Lsl5lLSYHcgavFwmEwmmNoORXCyBpc7Ed+0uQqtxx8CY5MkPU6nE1lhgej8fHPMPpEhImGiLCnHMbRtM7z2y15kS31r/B70b9oXk7dEwWrTkRYagLa31MHEY5liPeGERd1xza2DcEDjsH1xoNSQELIQ7z95A1pM3I/YhX1hatkZHzw7B8tGdUWH4fOQrdmxc1wjVGnQBcezhHns/bYSrq38Og5q/B2Dn26/Hl3mxRYS3v2f4/orPsL+PBLeY3jvuduFNvnnk9mAPRcrvnoOdXt9iugsF3TdCbczF9smvYCBr05CshXCF06Hwxhy12zQXcDZ3zqgysOzkchOgvRDGcgIiXjMhpcxr993iLVp0KUNRx4cx2diVuU7ELgiSpBwN05jw/c7YXfYkZsYgqDO1bB4+nZYdSesOUkIGnArFn+yGumaG7rzAJZffS3+eLwbTp/Ohhsatg+sgsXDtyITbtGhceGsEeHda4Ob0WenUxA8EdW3JeLI28/ir8+WwmJzwJqTgKB+DyDw22BkufOgxy9FwNXXYk67gQiNA9wIR+Btt2J5wBm44ITuyIMLZ4T9Tfv0ova1Qs2wPQ8ImXoHFgzZZETARfl12PRYBHa6E+tnMOoLpO78BHNvux07wgBXnguu6EAsqloFG4/y2m64Mw5hQ+P+hqRB15B8dCGWPVYJs65sha3hFrj0bISP7Y25Q6YgVUTrddhdeUg7NQvLXhyMM9H5kgbNBgfSEdynJWZ9tBS6ILC8G5Kxt10jLPjzBJwOHRnhq7GqSUvs3J0Im9MNc/DPmFO/A06FcxJrcdj22mfNweaJfVCz01CEZeYpwluGe+effqaq63lhV9WVul8VBi4rDFRYwuuwxGL6gDYYNnUzLBr1mV4aXrsDkYuG4cqH22BPCuBmdNLmQPDs99D/na1IF4SX2zSknVmFTt0LCS8JkdOeiQ1fdkGDFych3szolRURmyfhyX4DsCfeAt1hw7qRjVDnhW3Q4BbD1PY8M6b1vBJPB4TxgsUARUPysfloeVcD/LgrC8krBsD0r7uwSQMOvvMsKvWehpzMtehjuh4/nAPg4iQ/6mVD8dEdV6PD4kgA8SUQ3hC80eoevPzLHuEbm25B2PLR6N16CEKSjQd78ZIGO1xIxo+NTWi0NEaUpzAyW/qGQXfE4kDP57B2xVlBdg0bJFiZ2NbzTiwMiAYojBBSFzucjAJqFsQv/wpzu45Ecpbb8KNdQ3LQDMxt9xJionMMwntLNWxeGA0rCagTiF/+EgIem4UYoSUuXtKQdnIplg3siTOhZkNPbLcicf1UBPR6H4kpTkF45971IPYcssDt1mF3AyHTq2DRsCBBXImlAsmEP0kDI8WOvVh1cy3sjAdc9nztst0NPfwvzK36GI6mAA5OSkMkAqvchpWLOPVPQ/BHzTF32k64WffekgZBeAOw6MEO2Hs804go6xYkbZmJdSNnIC0jn3DrDqQen4mlAz0ILzsdTiDx0LtYcPNgHMhlNNcBW/R6rHliMHaGZcGumRH+41tYOHQG0jWSVA1abgZC3h+EVeN3I8tRKFEqmSRZEbv9B/Rq3hc7Yr2jwKXHUcnXUbaUjxQGFAYUBv6XMVBhCa8t6Sheb9ULX64Ig0VEnM4nvBELh6FyradxJBViGJikikoGEiwbCZbovZ1PeLnPZnfDEfonHm3SGysjMmG3ZGLldwMwaGQA0jXA7jqNT6qacN8rn2HKhG8wbtw4jBs3Ab3a3oBnvzsEWwGh9nUDakg6EoCW/TpjbawLqcv74IprX8QhOLB36LO4dsBPsG77GqbrG2N7ukGUSDpsNhdmv18JLd7ZAwcSMaPYCO9hvNaiP8atDTf8o+fizJLP0aPt2zhWKsJL5WcIvjBdgXe3W0UUucw3km5DWsgCrOwzEqejsgonqlHmkLEdy6s2wpZzbjjthRFRcQ1LNmImv46AN75Hci4JL/fryIhYhVVdOuHAkVTYGOG967/YfdwhpBaMRscs7I959eYgtkTCm4v4lV9jbq2nsW/CNIRMnSI++0YMwF8vDkVigiYI7/zqj+BIIuCwa4LwHplUBYvf347MfFlFSYTXnudG+J+9ENBrDZLhKIxu607YwgOxqMkD2BWUAVsekBO/EEurNMb2cy7AGYEd7epi5cpo6DqlM16T1kh4D8/Fwo7dcfxkivCrJiLyjDrnE1Ri2Cfh5aun7XAjGZvbVMGy5YmMhyMyYBgWv/8DUrKtsGanYO9b9bCk6ycI/mEaQqZMQcjkb7GjcxcsHbsWGVpxnTlvvDMaPQ/Nez+L5ecyfWq8y4wrFXUppjPt7X/1W+FLYUBh4H8DAxWX8CaHYEibnvhiyVm/hDdy4TDc+lhbBKeQ8PqrcB+El8um2XQgLxoT6tXCgDmnYc86jbEvNcb3+7PBYX+7Kxxjal+Bxz76DWuWL8XixYvFZ+mqjTjAGev24lYFMAhvq54dsSrKidTlfXHFtf1wIK+Q8Fp2fYNKN76Ig7qnPELHH+9chdajDsBdKsLbC2NWhcJCgnABhNeN4xhtugJDtuZeGOG1ZCJs8odYPHYhMi0eUUES3ux9WHlfLWwkYRWaWo/6IeGd+gEWvrsAqTY5mU5HeuhyrOzRFYePpRuE987/YvcRQ1daNsJrQcLaCQho2g1H569CxMqVCF+5EhErVyFi/wnk5DoE4Z1X7REcjiPhtZWd8JKkZh3Hpladse5wmpC4FETINTtszuNYVfUmzG/cHhv79MTapl2xftFRZNI3eiR2PlsfK5ZFGPIBf4T3mW44dsIgvD4f6H4Ir02zgVKLyICe+KsZ5SqpCHnjQ2xcdExgxZqdigPDWmLZS9NwZu1q4Rvhn9WbEHcu0cBTqUmnhqTDAWjZqyNWhirC67OeSu1Lj3tEnaNIv8KAwoDCQBEMVFjC68qKxKieffHGr/kaWy0HR+YOx38qP40FnLRGScNFEF6SApKo7HXv4rpufyLq9J/oW/tdhDC6y9nvDhfmjfgXHv+acVlqYvWCDxs1MUTPb6sFf7xlwl1t38C+OD0/wlUC4e3zPbK1HXin0q0YFywYr5Bj2PQ9+ODGyhh3QAcQ5yFpoNzBjkMTW+Iq07v5Gl5GeEsgvPYcHJs5HN27jMK5NO/GVIcLGfi9vQmPzDoHXMCEo9y0MGwZ1hS7VofDwg6A1O/amN9YbH2kGub9FAzXebYtSFw/GfO7vI+4lPx86RbEr5qA+b0+RkKKw5A0FEt4OSktA1t63obVCyPgKiIx0ZASHIAFLw9CbHQ2bDo1tfkfPkB0VykIb6H9NYu87RMfbiTu+RwLe32M8MzcIqtbEFfxq17BvIenI9yWiZykRGQnpiE33z+cTHewx1OYP/2AILyUz0QHjsaC25sWTFoTEd4LJbwiYu6EPS8Yq2+rgaD9Idgwuh/Cz+TrfC1ZiJgwHIs+WoY03VXoG9lpFPITb7z4+21F5Kbv0OuJF7A3wd8xarsiwgoDCgMKAwoDF4eBikl4GaFyZyNk/GBU7vAhjofHIfL0Qgy//ibc1WkU5h9NKAXh1WExJyE+Ph7n9gWgXafHMX1XGBLj45CZazhdo9jRvheDbuiIdz7pjFZLowA3X4dsRIBTD/+KR++pgy83nUFKYoKwlZCYhByrjO46YLUE4VVOnLuzNX7eE5e/zm9JhHcSsqxOHPq5Gx5s9jEOJKQjJT0XKz+9EvfUWYRkgFPIsHXE/bim3QxE56QgeP6HaHSXCSbTe6UmvGKViX0/4fHrmmHSphNe+Te0npHzeuKOat+DSlt/L5XwfZPqSN/+LQJavoQos7H2bOFxhu20vaOxsOqdWLs6Fta0FFjTDyDwh11i0pol7TR293kOK2buQEZCIjIiT2BTv1rYPOMUzC5OQDuA5cUSXk2sPBDyfQ0ENBiBk4lm5CTGw5xlET1CR3Y8jg1pj1nv/YmM2ASYExNhTkhCdmYOtFIR3nz702pgXsMPcDIxCzkJ8TCbDft2LR7Brz2LZT/vgtVKvBTeyBpXbjj8K+Y+9jJCEszITUo0rp+YiOxsi8h37M5XsOC2YQhOS0ba8fVYP7Ie5t/dE5uPpQl5TkmE15qdBnNiMuJ3/4ClfQbgxLEIcY2cHCkf0USHLuTHezBn8GfYMHwRUri6gyDDGlJPLsXyh1ojKPAYsoRvEmBOToWFq5N4lKXE/y3ZWDvuOTzaYySizIbcosRzymJfHVu2+lD+Uv5SGFAYqKAYqJiEl5NobHYAaVj6/kt4onEDNG89BqF6Bn748XtsPpcqJvokbJuBnm98jLMZJFyFhIMNrsMNhK3ojkaNGqNJ0yfQpnVbPNWsCerWfgx/HXMZk9zEjHYHDk59Di3bdcHBZC7Xld/gayQ8TmQeWIBX69RBw8aN0bhxY7Tp2A17EvOX9WI+NR3rpzdD9/cm4XSqvSDCmx66BR+O/Qx7Eu3I3PUNOnQZj9MuO05O/wzPjVsCs8UqtKMbf3wBderUR+P6j6HZqD1iuQa7lXa5ymkalrR8HLXr10fH4VOQkXAYPZ+bjVMuOxzp5zD1g7EI2BMLK8uuWxC9Yza+Hjkd4en5hF6zwQUNZ2Z8gc6NG4n8t+3UA3uTDBmFZnNAS9yCl2tWxvQtubA5JZEv6kufBMZuweHP2mD1J0eR5WPtWUbA+XICZ/hKBLZqibXtWmF1s7E4Q0Kar6G2ph/E3tefR2C7dgjs2A37VsaD6y3YKAmwn8aufoNxPNRmTNpy5CF52wRsHbIJyfnrARu61hwcGNkWgW3aYW3zJ7B+2VlxPJetcyMDIR++bthv3w5rWz2PoD93I1N3w5a6E1sHvoZz+XIY9n1Cl/TG9l9CkJ0fkRb2ndk48JGH/eWGfXNkENb3eAvBwcmG/z3xpzuRHrEN216rjiUtOyCwfXsEPtMBgU0fxvxP5iMzh2MGwJk/BmH90+0QOGgYolIycfzjqQgOyxS63oxzW7Dtk68QHpFRhEyzLpjXpM1fYHWLNljXoTM2de+O9c/wGs9gT3AunPn1SB/Yji1HYNdBCNkdDyu3szPHDqULyIyZj+0vtEFgu/YIbPc0Vg9+D2HnMsqwSoOO3JQTGNGtCj5fnwYHX/5REOUvBYY8fab+V420woDCgMKAwkAxGKighNd4QQTJpNtYscsggjqH+vPJJglV/gsl7IJ4Fm1gNc0qIlwepxf86+ZsetEwG9/O/D1O3Zq/vZAwcmF/7+TwOo7khYnrpxqrEdhgsxtWHZyUlH8BO0m0mFRX+Opdea5hoehkO67c4Hl1Xdh0g3aMDgEXVyDJMMph5DUPhj9I3I3tpM6eiXkS5Rd2dGyZ3Bb3NRuJvakcmi/qR59kl6sTRAViUbP2OJwiybOP80hsHVwwjNMIjQ+11oyG0k823SleXiD3OVz2/MmGzB9lEYBd1BV/G1FjJ1dsEPnm9VhGSg8K7TtdjNBr+T7x2sfjKH3g+TotyToz8sOVGoxVJAonPPqyb7PmIm7BN1j04VSk5EgNcmH5SWf3DLsOAZ3+QiK47Fh+/sLnYNadD2LfMd3QDecV5tuuG3mlnljUjT0/fz5ellLoi8LzC3zoyPct69HD/w5BdmW5jGN0O19aUdSGLq5fuiiv3ZWLoLEt0LDDV4h3cISg0L5P3JQGW+oY1eApDCgMKAwoDPjAQMUlvD4KqxrRQlJVfr7QoCUcw7DnG6PZx/OQVjAkXty1dNgyYpAQHAGzzslqpSNI5Zfn4vL2D+zTrMiJCUdSREr+BK+i5efYRPC4OxDQ9GuECiKow45cHBhRHwF1h+IUl02WetnLFOccQTmz6Ence/M7WJ+pGRMTVXRXNVKXKZ4rzLNJ+V/dgxUYA4rwVuDK/ScewkJ7yqHvk/PQoM+n2J9kLvmBURBhlZH4f4BkXkL17KnXldH1wrqS5FfD3g+vxeyb70TAnXcioPJNmPvCQiTn8cUf9Jc87jL0HTUVtl3of31HzItzwJUfhS7il0uovgrr5jL0tfJjyc8j5SPlI4WB/wkMKMKrgH7RQOcQuSbkEpRDFJ2ApcjChZEk+pRrQlPOUfjxlKxcmN1Loj6IF6Exp5wlXx6j7sOLvg8vibpV9ajqUWFAYeASxYAivJdoxajG6zImdApT6oGvMKAwoDCgMKAwcElhQBFeBchLCpCK6CuirzCgMKAwoDCgMKAwUN4YUIRXEV5FeBUGFAYUBhQGFAYUBhQGKjQGFOFVAK/QAC/vHqKyp6IOCgMKAwoDCgMKA5cfBhThVYRXEV6FAYUBhQGFAYUBhQGFgQqNAUV4FcArNMBVL/zy64WrOlN1pjCgMKAwoDBQ3hhQhFcRXkV4FQYUBhQGFAYUBhQGFAYqNAYU4VUAr9AAL+8eorKnog4KAwoDCgMKAwoDlx8GFOFVhFcRXoUBhQGFAYUBhQGFAYWBCo0BRXgVwCs0wFUv/PLrhas6U3WmMKAwoDCgMFDeGFCEVxFeRXgVBhQGFAYUBhQGFAYUBio0BhThVQCv0AAv7x6isqeiDgoDCgMKAwoDCgOXHwb8Et68vDyoj/KBwoDCgMKAwoDCgMKAwoDCwOWOAb+EFyopDygPKA8oDygPKA8oDygPKA9UAA8owlsBKlEVQXlAeUB5QHlAeUB5QHlAecC/BxTh9e8btUd5QHlAeUB5QHlAeUB5QHmgAnhAEd4KUImqCMoDygPKA8oDygPKA8oDygP+PaAIr3/fqD3KA8oDygPKA8oDygPKA8oDFcADivBWgEpURVAeUB5QHlAeUB5QHlAeUB7w7wFFeP37Ru1RHlAeUB5QHlAeUB5QHlAeqAAeUIS3AlSiKoLygPKA8oDygPKA8oDygPKAfw8owuvfN2qP8oDygPKA8oDygPKA8oDyQAXwgCK8l2El8m0nmZmZ0HW9xNybzWakp6fD7XaXeOzldoDdbkdqaiqsVusllXWHwwH63eVyXVL5uhQyQ+zm5hof/n+5J5ZB0/JgNhtvYfJVHrs9D+npbrjdl395fZWvomwjHJ3OPKSmupGQ4BbfLtflXWfEXkbGhWPPZise2/9k3bN+WBbmqbwSbWVmusVbZcvLpj87vP/T0txwOPznn/uSk91ISnKDdVeWJO0nJrqRkuL/fF6Dx1gsZbNflrxczLFWq+GD4spPLLAcfO6W5R5VhPciaiYqKgpnzpz528hkZGQkzp49e559Eqn27dtj1apVJeZ+8ODBeOyxx5CSklLisZfbAXv37sW9996Ln3/++ZLKenBwMAYOHIj4+PhLKl+XQmb4kPr0Uw1ffaX5ffCTRPKhf+SI0+9DPzbWjQMHnP/vReLD9uefdYwYYfXbEC9fbsczz+RA1y/NBqasTmTDumuXQ9RRWc+9lI9nIxoT48bgwRbUrZuNu+7KQlTU5R0oWLvWgeefz0VOTtmxR3/MmWPH++9bRafun6g7YuvECRciIlznkVCHA3jyyWysWGEvt6z89puOV1+1iI5OeRjlPX74sFMQW+8OfUpKHmrUMOP4cf/PrXPnXOjUKReNGmVj0iQbYmJKHzTJysrDK69Y0KRJNh56yIxt23xfJyTECZMpHePH28qjyEVssGPPZwOf8xeafv1VxxVXZGLXLt/5p11i88gRF/r2tSAysvQ+qtCEl5G2BQsW4PPPP8dnn32Gn376qVyjgSRaX3zxBRhp/DvSjBkz8OWXX55nn4T3+eefx/r160u87M6dO7Fs2TJomlbisaU5gDfx4cOHsXr16iL5iomJwfz585GTkyMim/PmzcPHH38s/P7pp59i9uzZRR5gmzdvxpw5c4psK831PY8hiV+4cKHodHhu///+/+jRo3jzzTeRmJj4/52VS+76jKCNHWvDd9/Z/D4UibHAQIcgHnyA+kqzZ+vo1i3H165/dBvz99prFuzbJx/ORR/0jCB17ZqLLVscIl/ejeA/mtlyuhgjL089lY1164wylZPZS8BMYd0xytugQTbYsbpcE+vp9dctWLlS1lNh+UpTJkY+2ZHbutUhCEZpzrnYY0iU3n3Xiu+/t50XuXM6gQ4dcsSzwd91WF/M81tvWfHBB1aEhPgnQxkZeejSJVd0rGmvPO5NdtQHDMjFtm30WVF/p6bmiY7UqVO+8+R5PKOcb79txUsvWcTokL/yyu2e59KHPNcf4WWUfPp0W7G+kXbL+k2SymdDdnbRspfFzpkzLvzxh15sh5quPXbMJQh+dHTp79EKS3jT0tLw2muvYcSIETh27BhOnz6N3bt3Y9OmTUWIWlkqwvvYmTNnYuzYseVmz9v+77//jnHjxp1nvzSElzeA501A296/va9Xmt+0sWjRIowaNQoWi6XglEOHDgl/Jycni/wOHz4cP/zwg4hQM+LZoUMH8Vue8N133+GFF1644Dx5l8X7t7zO/8e3Irz+vV5awrtxowNvvWURQ5i+rM2bZ0e/frm+dv2j27Zvd6BTp5yCB7xXG4fdu51o1Sr7giJs/2hBynAxEqn27bPBOqqoiVGj+vUvb8J7/LhLRPsYWWTyxmZxdcfnaXCwE4MGWRAXV3pCUZzN0uwjWfvoIw0zZpSd8DKfn32mYetWJ44edSIgQEePHrk4fdo3wVy92rh3LyYa6V0mSgkYZd25s+yEV9qSbRmj3Ows79hxvi15rK9vEto33vBNeKVteR5/lwUX8jx/33v3OsWz4UJGFGjTV/58XetCCO+PP+qokISXelWSxUGDBhWJ6BqVW0gEDxw4gIcffhhVq1bFU089JfSgvpzrvY2RyTvuuAP33XdfwadGjRpo06YNKEOQyds+SXhpkj/7bdu2BWUULAcjvCtWrBAR1Ntvvx3NmzeHp31GWB955BGRvwEDBhTxA/PgdDoxefJk3H///ahevboYgi+NzpfXXrx4sbiup3aWpJZRTUZdGfH+8MMPRf5keX/99Ve0a9cOWVlZYtOkSZPw4osvngdweXxx37TPzszdd9+NKlWqYOvWrUUOp2a5W7duCA0NFdegf/r161emKHdcXBw6d+4sJBNllU2Q8L799ts4cuQImjZtKvI5ZMiQgjqIjY1F//79QXw8++yzIHbq1auHhISEgnLQT61atRLYfOihh7Bjxw7hK3bY6GdG0j1TeHi4sBkdHS028xqdOnVCtWrVRBk2bNjgebjQgLds2RL33HMPGjZsKDqE8gBG3z/44AOEhYWhSZMm4hh2TuhXz8QRCJYjOzvbc3Ox/0vC++OPNkybZoPJlIHKlbPAxodp5Uq72GYyZcLzc8stWSISw/Ouu477Mjz2Z6BhQzMyMw091+TJNixZYsf33+viuCpVCu3zGpQhzJ9vx/XXG3Zat872KUeg7KJ58xyhOfZVKMri2bj99Zf/EZ7Bg3Mxa9b5Wns2SEYZMsSQKnXAnomN9803Z4ljqlY1nyff4HDegw+axf7HHjMLTZ48XxJS2v/3vzPx5596QbSM2lRGpA8dMkgAh5ADAuwYOtQqJBeRkW507pyDw4ddaNgwW9hnGZmo+3viCWObZ93wOvS5TCSLjz5q5O2aazKxdKl//8hzPL/PnnXl+0ZiIANNmpgLOhUkAo88Yti/9tpMLFtW1H5oqAsPPGD47p57suAdUfNlv2nTQvvMS3GENykpr8APtO+PUHmWyfv/jz6yolKlTFx5ZSY++aToHARGyW691ch/vXpmMTzO8ynxGTVKw6JFxj0ya5YdM2YYGPc1zP/OO9aCevEkNTt3+rbvmUfiYvx4Dd9+e/7I4MyZOm64wbh3WrbMETpKz3OHDCnE9muvFZaNw/0vvGApUl8cGWEUk8PxJLpF72vjGo8/bkQMOSWCEV7e24zg8tj69TlHpZDQyzae+WGE+sUXLZg9236efp622FFdtaoodjgtplu33Px8ZOCbb4riulevXBA/Mv3yiw1ffqmJZw/lFt75v+qqTLGfx6elGRHePXuceO454xoktLbCS0iz4js+3i0I++bNRQkvI/Z8ZvJabdoUdrblyf4Ir9nsFpIQnsd8LVxYtOxGHt1o3z6noPyeoziUbvGZyE78f/7DukkXz1Gex85R1apGngqfDRm43wx52QAAIABJREFU884sn+Rf5tXzm/etcW4GatXKLuJnedyqVQ7xTJPHNWuWXaoOGe+dnj1zKybhJVlgQxwYGCj9dN43CTEbc1s+2kgI2PCzkS8u8YaSKSAgABMnTpQ/i3zTPsnOxdifO3cuSAy9EyO8vXv3FtrcNWvWiN0//vgjRo4c6X0oSL66dOlSQLZ4AIktpR6vvPKKIL7cRoJUnL+k4QshvMwvI7pDhw4FZSZMF0N4ZV74TSIWFBTkuQkZGRlo0aIFGjduLMrFncOGDRMkvciBfn4wj/SrjGDzm/b++usvP2cU3cwRhb59+6JHjx4FBP+9994TWmP6gmSa2GjWrBnOnTsnTqY0g6Sc16Zk5IEHHhAjE9xJaUTt2rWxbt06nDp1qkAuwUmL7GCxTqglZyeDkxnZEXn55ZdFJF7mjFilX5h4zuOPPy6wwd+8HjXhxADT9u3bUb9+fbRu3bqAzJIAf/vttwV4oUTm3XffFRjktUubSHinTLGJxn7MGKMxZSTqxRdzizy42CgMH249r6GS12ED/9JL50d4aZ/kixqwr782WpKTJ13o0iWn4AG6Y4cTzZtniwaR9jjUOGdOUVLKx0L37rl4+GEzwsIKGzh5fX5Tb9e0abaYYOK5Xf4fFUWtfQ4iIopGyObN04sQVDZan3xSSCw4hEz9aKFMAmDkRA4TshEiGT16tDBfixcbjRfzysZw0ybjPiORrlcvW0TMmK+SCC81q9QZUgfIyYVM3bvn4Ntvi7bKJAvMk2ciDjkpp3fvXI9hdGD1anuR8nqe4/0/ySyJvvT5hg0OEeWSpIa6bfqLOkQm5rFNm2xB6vmbx990U1aBFIFkl8RS5pX2b7opE+Hhhu/Wrzfsc3ibST7f/RFedkRI+tnoMxG7tWubcfZs0ToWO3384SQbkhxPIsg8HTtm2ONQM0k0Oy1Ma9Y4hB4zLMwtiHXHjqwLTZDfe+/NEp2p6dN1ca94Xo71TGxKP8p97DCSmEj77GhS7xkaWjT/9PeAARbs3y/rOE9IkKi/Z/5lYmeJ55OcMVGv7nlNHsv7mKk4wiuj0Dzuiy80ULLknShpIO6ID0qemCiNeu+9QlLteQ6JHwk2R4NI4D0T8UOCKutd7vvtN1sBgec5rIuffjLyQkz4Iryff64V+JN+5cgUI8zeic8ZjhqQBJKAMb38skV0WjyPZb6pY2aEmhF2TmBj4rONeWnXLkc8s7iNakpi3jP5IrwS1/I4dhi8fcwOAssnO5CM0rKzIe3zeJJlSkaYKB+pVctcpEPJZy3rqKzJM3+sE+qq6QOZSLtYj6xP4oCJz6rXX7eCkgbu573Jc5gH+WFnlJPzWIY33rBUTMLLKCijiXv27BGOOXHihNCLstE/fvy4IAVs8BmV9EyMwpGYlTb5kzRwhj7JDImEZ3rrrbf8EmTP4+T/xUkaSKZ4fZmo1WVEz3vlBvqga9eu5xFeRoBJFhkZ9ASb5//Stuc395cmwksyRJJHXe+UKVNERPbgwYMFpsqD8JJ0kVj6IryMeDNSKRM1xO+88478Wepv6Q9Gwz/66KNSnUfC2717d+FbeQJ11JxAyMgsiSWjx/v27ZO7xbY///wTubm5Ijr822+/iX3y+sw/64vnUhPNCXH79+8XxJgElvVPzTQ7WMTfq6++CkZg+VvakBcbM2YMJkyYIH+Kb3YIfvnlF/E/I+bEl2dEl9ci4ebIgEzEFkcjvDEn9/v65kObURNOhJGJjSUfcMHBxgOO+b1QSQPtjxtnK3go0xYf3EOGUMtokEJGTBi5PXTIWaQhlH6SfVrmYepUW0FjJvMrv8eO1USDa/wu2qByGyMibJCZCm0XHie3MdJCcsHoEgkqfbNggZFXeYxxDSM6zaiVbJSM/YZN5nv0aA1ff22QZ3kuSROJB3WBjNIWF+FlI0KCzIiNTBMm2PDhh4WEXEaQfUkaqGHs39+CH37Qz4uay/xIu76+2agRC/n9YtGosgEl0WVknuVjlKkw5QnSR3kLSRojZzJyJa9Hsk4tK5O0L2HMRpsk8uDBwvLyOH+El/XJyKmRDL+PHKkJXXr+Rr9fzA91lcyL7Lx4HswRCkamOenJSIZ9TqJjHbCDxQgnG3FqRDnqQX+TBA0cWOgznsvII4mjp53i7HtPYFq+3IE337TAc3EfYoOaV5IJJpaHmCLB44iJZ5K+Z3S/bdtscQ8RN/4ivJLwliRpePbZHPz+eyEZpjZe2ve+PiPZrVsb97nnPv7/8ccaGKlmknmV357b2DmXIxylIbylkTTw+SMTJ2hJ+57b7rgjS0SxPaPJnC/AepaTdb3zK59bvgivtM1vHsdrckKiZ2L0tE+f3CJzK9g55/3IRL8Tf/LeIZGkXpfBCZkuVtJAOxxlIuYlzrgtK8st/MFnGRPL4KnhJU6p++YETZZBfvis5IgJ73MGPf4WSQN1nCtXrgQnMsnE6BKjqCScMjFyRrLCxro8E4d1qRndtWuXMMuVDpYsWQISWmpiOdTdoEGDgoiWBA5JGI8pbfJHeElAaJ+RPCZpn9HgstgvjvBS0rBx48aCrNKPJLbeE+h8EV7mJykpSUSEOfT/+uuv4/vvvy/IZ4FRH//w3NIS3k8++QTLly8XcgtO7vNMfzfhpURFRk95XdYVSXhpEsvIqCUJ+xtvvAF2VNiZ4ATC0iRG1XkOfSwT9eOUYVB2QlywrihpYJL44P+MzjIiv2XLliL7WL+MuBLbJKy8Bgkto7pLly4VWCC2ST4Zwd+2bZsg3STJvC6PZ+J+Slx4DWKR8gjmlf6SJJjXphyI9zGTZ/7kb1/bxMEl/CEh5aQ1zkCW2jk+jPhQ5TC9tH8xhJeRXUZ5eS0mNsokKXPnGpEeNvwcrmUUkzOiv/jCeh6pLal8JBpceYEPZyPP4qvgDxsnTr5hY+Bti1E+RqVIQjnMxhnZfEAzWkO7JESejUiB0fwILSN3HP5jko0c/2cEjREjTvjw3EfyynPoZ0aLSiK8jB4zWiIT64ukTqbiCC99zrojae7Y0Wh4PCPV0oa/b0a+GFWXMoTAQEZ1cguWc+JwuWc0nr5lRHzgwFwR3eHqCoWEwLgKCTCjYvQvI2+0L2UIa9cW2vfMky/Cy0aV9VWnTraIhHEEgL8p3ygkl55Wiv7PiCFJA+uePvROjIwyasuVIpgkbtiBIybYwLN+Kakg4SUpIpYY4WXDLokIt/Xvn1tAnCVGiBnaJw487bN+iQmZONzPSF9QkCRmRl7ZISWBZPTYON/A3MiRVtGxY/lIgj78kM+wXDEczwgh7xPe6+VBeEm4GJWXif9L+3IbvxkxZz2xc8T7wjOxbtnBlH723McOIX0t700Orb/5ptHBKS/Cy0lZMrGzIu3LbZRZ8Nkhk8QBR3TYOZMRX1mv8jj5faGEl5HqatWyBGkkceSHUXBJyEnOPfPKQAL3e97ffxfhZb2wjZBSLG/CK8vu75vHc/Sh3Akv9XwcTn3wwQeFLpERLUaZvvrqK7GNekRGwJgYUaLOtGbNmuDwfXklRrjYYFPjKhNBw6jZN998IwgvI4Des+g5ZMvVHEqbiiO8JBCehIc2aZ8rRpQ2lUR4PVdpKAvhlddnvTCKx3OpR/Ynz5DH85t+LA3hJRFjp4eJy4exjkNCQgpM/ROElxMVZSoL4SUuGOFkdJqaZK71O3XqVDFRT9or7pvk0nuVBtbV+++/Lwgto7QkvIyaeicSXu6ToxNyP6PVJKkkzJwwyFUyGHXmZEFGfBkdZhllBJb1xPuAeaeUhPKdkydPCnMkwLz3WPfEKD8kt4wuM5HwvvTSS+fhV+blYr4l4fVcpeHvILwTJxYSahJealQ5/CqHNtkAc/idD2jqQIcOtRQhjyWVUS5F5us4PlwZxXn77fNnWJMQcCINI0y8PlcDYKSJOkYSMg4rMhrNIThfDRrJzNNPF5I6z+uzYWej4B1tIwFs144SjtJFeEl4PZdDKi3hlQ0zv1k2RruoVb7/fnOJM8JlWRnVoeaaGtbbb8/CE0/kFAwPs85IBGQEFzDmY1C+wWgkh+U5ZOy97BOjuiRwTCTS3vblTH6Zfx7ni/ByO69DEsUODUcm+CEBlPIPcRE/f4g9Ru5Zv8SBdyLhJWGXhFLuHzPGJrS79A2HuNn4S8JL7as34aVMgbP0vXXhJLy0z/M9E+0TjzLRnySWkijKuqGu2xhOLzyfq5BQg8zlvUi4GWknoWfHjdjmPScJaXkRXilnYH59Ed7k5DxQ2zloEDuRhp8965YT4jhSYHS4C+uBQ+mtWuUI8s765YedDWKYqbwIr+zM0aYvwsuRKHbsvBOlL1yZxlMy4n0Mf18o4aWchpFV4s8T23zmMJHwsjMg0z9NeCkD8uzMekZ42UljPXHUg5IR+eGzRz4veP+VO+FlA8vhfE6W4WQhNuokvYwqcXIYJxpxeTAmDsFy0gyPpZ60PBKBTZ0kCRXty+W4uI0Tp+SqCn379i1CiHkciQbJH5PnDeIvXxzi5WoEnpO3eCwjbL7sk7Aw8lZa+9TUMsrobZ9l8V6WrCyEl2UjMWI+ZTlJcrh2LElwcYnHM2rLTg31ojKtXbtWRBuZV+9Ja7wOJ3GRBMvrXcqEl+SSHSJZPvqbmCWeSpO8CS/9wegrI7PU6BZHeGmfvvGOJrMjRmkIE7/ZOWEHiv6mdpv2WQf0NT9SK83j+ZtRXNkBoWxn9OjRwpavP6UhvKxHjgoQh3Iioi9b3ttKQ3h5DhtXRhZ8RWG4n1GFp57KEZNdPK9B+4zwehJeNhSMjFFvycSGThJf/mYEVE6MkbbYyFNXyyiw9/CzJK2ekSZ5nrRPQk+iyPx4JmoHSSg9NZ98IEvCS5JBUsPJSYWEg/erQe5IKugXKZWgbebVaLyNdVMZzfZcjJ2yDGovmdiYkRTLhoOdAUb3qLslOeCwdfGE1ygPIz0kWp6J+aBfZV6JEeZr2DArVqwojMrxHGpDqaWlplQ+E7j9s8+MJak87fJ/HkPbnIBH0itfPkD7HC0ggWEi2fIcnmee6C85DE5yxqFP7+SZB+7zJry0w0RcSU2qscX3X0bEObGrqA4xT2h/OSmqMEJvTLRk2RhB5rCr5yQ/1g87K4y2MipdEuFlHXLy1y+/FE5UlDkszj6j5DLRhywnU6FfjEX+eR95DsmTGDG6zE5DdLQx6UhGz3k+yZsn4eWQvNSbE6Mkn5SsUN8qEzHBiLkkq3I7sU8iXhzhpR1qrHv1KtSRFpYBQt5ELeeyZY4izwBegz6gJpURdJl470jCS02+56oPJHz8zXtB5pXPBnaK2On0fMbQHvPGDkdxhJc44/1DXHvmm507Snb69Sv0H23yGO9nzIUSXo7MEJssl69UGsLL4AWfH96acF/2/G3zLWlg0MIiJhmyzPTPuHGamNzmORrlzybPoW/LnfCSOH799ddiUg51ihxCJbn6448/xEQZzjyPiIgQ+eKLEzhTnOTCM1rpL9Nl2c7IHIej2bgzwsiIGUnEtGnThBnqSamz5Kx3zqbncK6vSV++rimBSGkEI4HUMXJ4mhFMSbDLyz4Jhad9+rMkwsv8UZvLPDDq9/TTTwuiTS0zyRfPp++p1WSHhMeRzPHY0iQSHBJxRqB5Pu1QLkDSzWt7E17a5DWefPJJ4Wv+JqljB4A6VtrgN/NHclZSog9YZ1y5oGPHjmIyGO1Tu81E+Qwj7Bca4aXvOCmQIwIkr4ykcgJccSTRM8+U0LADRwLKclG/y0lfUuLjj/BKXDH/rDPqrKkDZ6SZIxaM7vIY3ktcJYSTy/ibmOYkN+Kcidhn3ukTfthB4fksFxMju5T8TJ8+XejYmUdGiiV2S0N42TFixLpu3bpFpCPiAsX84cOZRLC4CC9PZ4SIw44kr2zsqcPyfBCzoeXwHie+cR9JKx+CtE+NMCMk1PfxXEavSEBkw8BGeM0aO7ikGCcfcb+cQCezzn4fo4JcDYCE2TMxAsZG04h8nN84kDRSoiAbflmvtCGjIhwG5rU5g7x27WwxNM4ILxOJORt2EkrmkdfjR0YRSRY5XMuoGpcsoh3O3GciQeIwIxtq+oUz2qmblI0sG2SSaQ5f0jZ9xWgIy0OCXTLhFZcBVwjg8DZfbEAfy2FyTiDhqhXMF+0zXyScchiXjQ6JALdzpjjrySAGhh8ZnSTB4LmMYvLD8skoE+ud0UvKNqR9RqVk1IukhJIFEg5G7xm16ts3tyCiSp2iP/vMGyPTlJMwEstVMJhPdq5IIphIOkhySKqZL5lH+l0m4vC553Jw442ZBauPyH08jh0SYovEkWVgx0nqFY0hYa4e4BD5J5EnAWUiqSyJ8FLzSVLKSW6eSWKQZeNESk/7nnp65oO6TKmplTboG9qgXzp3zhVrMLOOuUIBP9xPfFJKwQlR7FBRelKzprmA8NIWJ4UxfzyXnRdKbZgfg/AaPpR5JDGmf6hpJjkujvByH6PdlNFQYrJ9u1Ncg9ikjMUgkAAnrDJKyXr2ThyR4AS8b77RBAa4jFW1auaCYXx2slj3rBPmixp+jkRwxQ1JeA0SrwtJB+uX5SQmmUpDeHkcO4gPPMDVOQoxJe8bjlZw1IOdIgN7zoIJqtS5Ml+cJEpJCVfBIYlnuZhYP6yXoCCn8BOfA1w+jfcu65bPBmKNS7vRb7RPHTQj3UylIbwcVSBG+SGWWZfMl8SfMOTnD6UavCYx9uyzxuo2zAcDDiw/J83RLp+FnMNAqRM766Vdh5fPoHInvCwLCQ+Jgpzlzm0kvZxhLnWBsswkjfwwlcYp8rzSfJMYkcSRgDOyy5UMJCni+ZRWkASTyHDVAplKkw95DDXJjLTxGtRUek70IQGW9jkLXyZ5rvzt61se42mfL7ogGeI+ygo8V5RguXgNkll+uMoAyzx+/HgREWR0kb6Qw9YkNxwG53Z+ZGSbeZHXLi5fHC4n0eI12FkgAZWJ12eU1HP2PuuCxE9O5CPJYmeE5/PDPJDI8dySEq/N6CLPYbST12eEU2qaWbZZs2YVWaaN+fNemsvXdWTZ6XfKcChB4f8ksSSCpUmMrlIzznIRF/QTSahMlP2wrny9iU1en50K4pJl5Pmy3rifRJ4rRvAY/mYHkpIgz2swv/QJr8+PvBelfd6jlGnQPj+MGEvsUoPOaLC8psy39zd9yo4TbZU2kdzwIcoHoYxC8oFGolOoTTMe9Ozpc/iYD2FGKGVPXpaBjTsbB344uYQPW5JaTlLiTH5GAtmYy4gS8yjP/esvXRAPkg9qu4xkRFX4cGUioWGjzcZSJv7/3XeaePgz//JYuZ/ftEdS5nket8trswEi4WX+mA9G+9hIGdA3rsWHOCPMLDvJuBzmljZI8OgT2mDnQUY8eR02vtRRMhLJSJmMkstzSd7oI/qNZIsNGhsW+o6kgURaEkzaY33JF2d4loMNE22QtLKhkolR7FGjrCLvbFRlgymvz+PYoWGd8Vi5nf4kESNBZb2x7PxmhJAEXUa82UBLXPiyz0gj/c+8kfjLRPtc0smXffqJ9hmRpU1el9s4I53fnpOH6GtigL5nHvmRpEKWhZ0NRkklUSZO5D7mh5FNnseXI8hZ8P/X3lk+SVJscfQP4Nvy7RHwcAIIAteFxT1wd3d3d3fXgMACFnd3d3d3t8WdzRcn590ht7Z7prene6NrOBnRVHdV5s2bJ7Nnf3nrVhPXeZgS/1mbrI8ofD/I72TThIgiTx1feOCOTRyiDyFEFLuazoCNwexTB1743beu/1n34QNH+mLsrK8rrvjHP64xXsZFChG+sI75tYH4rlMH4UJbIvPUR8AgtvpK3xGhFmuYiDzjJBbCQ1QRHac+3wPscw0+iDzWSqwf1gCbHuyzvhGxcCv9wU6wIbKPb/iPD9w2Z1MXhe8Fghf7t932e771z98ybIcN/sYRpa7OL5sdIu+kekRh7kr7nOe7xnew0Rxynf4Q2dgntSr+yYQFfvHibwP8GEf8IgR/Q4iK0o7r/A2K727fprPvbwdpFrG2CQbExp2gQjw0hh98X9i0VP8usz5j7tgMETAINjHuRkdY4BvfOfzju8H3gO8zBRuIbnzje0H/bCr4m9VKGT26C7/DWx0Yn1s914rTrdap9lm2a+RTXB+oXdThOJiNZnaanS9tD2a/rDuQH2W98n0zH1q1NSHtG9ls1j58HOj6QNdoX73O5/Jc9XP02epxsPZlX1Wbjdo2qt/oXKOxVe0PVifsxrGV9o3qcq56vvq5kW3+qHLrngjkqFE/5CPvSU3g9zz55QQ+x4vPCNd4Va9jY/HF+64TbcQGhagwYoqCbfLywmYcOUdbXo2uUw972B058p/2pD7ws0789m3YKo/0N/XUY3LeatXfqFeOi74ZR9WHsg4+VG3RJrhwnX7DPu/jGsdqWz7ThmvBnSPtaVu1x7W4Hn1wLBmW81n61qh/2sb4oh0pFRT64R/cshDNGTWKqOPfObIdbWOMjcZXrgvGRMSdQn/8dm1ZEGZhnxzgsFseyz6CUXmdcyUbxsH16nnqVNtX2eJjo7VJO5hzDAa8p36sn2mm+S6vPc6X/pTvm9lnnf/nP31rmyhv2aZ8T18x9ug3ruNX6TufyzrYjfaxrhl/1d/gRz/leqRtORelfWzEug7//mn/fU51+O9/x+QIcLW/8L9kgw98LueH/sI25/lMnWjPsepHtGfs5VioW7XPOer31Ws8B1wPH+ARc1X6FteZi/Cv6hd1yuuNfKcOdhv5GuOJ69QJG9F/2T6uNzviZ9mO9/gX9kv/+8bdNzfN5rLaD226EuEt/5j4XgISkAAEEMVELYi2dONFBIVIS+Tw8r7T/dBHvJrZHux6s3b/5vOsCyLT5BcT2YxC9J8HkIhEUdplhH0iQqRXEPWLgn3ytIkkDcV+u351ut1Q195Q23d6PJ22N9zH12lew82egjf+8nmUgARqTwCRy21NbvXx3lIPAnGHgNvy5G7zwBc5sPyfyOIhs6jTzoiiLfbJMy3tc/uZEnXasW8bCUigMQHSTci35f/6yHe6fPE9JM+b9LGJURS8E4OyfUhAAl0noGDpOuKudtDt+eu2/a7C0bgEakig7zvXWuCBuo2eiejksBW8naSpLQlIQAISkIAEJCCBniOg4O25KdEhCUhAAhKQgAQkIIFOElDwdpKmtiQgAQlIQAISkIAEeo6AgrfnpkSHJCABCUhAAhKQgAQ6SUDB20ma2pKABCQgAQlIQAIS6DkCCt6emxIdkoAEJCABCUhAAhLoJAEFbydpaksCEpCABCQgAQlIoOcIKHh7bkp0SAISkIAEJCABCUigkwQUvJ2kqS0JSEACEpCABCQggZ4joODtuSnRIQlIQAISkIAEJCCBThJQ8HaSprYkIAEJSEACEpCABHqOgIK356ZEhyQgAQlIQAISkIAEOklAwdtJmtqSgAQkIAEJSEACEug5AgrenpsSHZKABCQgAQlIQAIS6CQBBW8naWpLAhKQgAQkIAEJSKDnCCh4e25KdEgCEpCABCQgAQlIoJMEFLydpKktCUhAAhKQgAQkIIGeI6Dg7bkp0SEJSEACEpCABCQggU4SUPB2kqa2JCABCUhAAhKQgAR6joCCt+emRIe+/PLLdOKJJ6aPPvqoqzCwv/HGG6frr7++q/00M/7kk0+mzTbbLL3wwgvNqtTi/BdffJH23nvv9NVXX9XCX52UgAQkIIF/HwEF7wBzfv/996cNNtgg/fnnnwPU8lK7BI488sh08cUXj9f8gw8+SBtuuGF67bXXxrvWyRPYn2KKKdJJJ53USbPZ1o8//phWW2219Pzzzze1ffPNN6epp5463XvvvU3r1OHC+++/nxZZZJH08ccf18FdfZSABCQggX8hgWEpeMeOHZsef/zxNNNMM2VBMf3006fpppsuLbTQQumZZ55peZrvvPPOtPLKK6c//vij5TZWbJ3A/vvvn84999zxGiB4N9poo64KXtZIWfhcPVden9D3P/zwQ1pyySXT008/PV7TRn11su/xOuzyCQTvoosuquDtMmfNS0ACEpBA+wSGteBdb7310jfffNOQznvvvZf4h5rbsQ8++GCOsn377be5LrfUEcwnn3xyWnzxxfO1Bx54ID322GPp559/7rf39ddfp0cffTRxDWFTCuPPP/8836r+/vvvs6377rsvvfrqq/1tB3qDz9gt+/rrr7/SK6+8Mo6oQBgSHQzbIZr+/vvvXJexRcEP2v/2229Z2L377rvpww8/zC/Gz2tCUgiIej/77LN57LR9++23E/1SOL7++usJBlG+++67HO389ddf04svvpgeeuihfDt/n332ye+JpkdEl3GRagAvNiiMj9v+v//+e5jLrLFDO16MJQocnnvuucQ8Mse0h9OYMWNyFXwn8sq84funn34aTfMRH5l/7FKHF/5iLwpz88gjj+Q6XIt1ho/4etttt6WRI0em888/Pz388MO5f8aFb6wT2OEX1xDH1UIdUh7wAfuxNmn/ySef5LnCn7g+IXMXfcEGLrx4XxbWC+Nj7Kz7YEcdfMAfruPbVVddlTeTZYQX/5944onsH2v5p59+Ks3n98wZYyy/N+NV8oQEJCABCUigAwSGteBde+21E8K2UTnqqKPSCiuskE477bQsbDfffPO01157ZZH5xhtvpNNPPz1tu+22ad55503HHHNMOu6449KZZ56ZELkUxMshhxySDjvssHTCCSek7bbbLl144YUJYUq58sor0yyzzJIOPfTQdOyxxyZu36+xxhr5H/hcYYD/IPQWXnjhLDaiGuKGW+Q33HBDPnXLLbekXXfdNds9+uij06abbtqfi4ro2mSTTbIQifYIC6Kmn332WU7ROOigg9Kyyy6bDj/88Dy2Aw44IG2//fZZTEWbZkcEDyLorLPOym3hQP9PPfVUFkP0v8MOO2QGYQMBCW9E8NVXX52Z8ZlNCfxgzC1+CuJtzTXXzP7AjRf2EVf0/cv+AB8VAAALWUlEQVQvv6Tzzjsv7bnnnpktc7DVVlv1R1MRtIwN0XzEEUdkH8mVRVzTFv8uv/zy3HbUqFHpggsuCDfzEXF+9tln5+v4tssuu6R55pmnX5Azx9dcc0069dRTs++skz322COvDexjG5/mmGOOtNtuu+U6jAFmbAaoc+mll6YDDzww16mmPSCemR/yYsllZl2yvkLUX3LJJWn11VfP11iXjGv33Xdvae5ioDfeeGPacsst08EHH5zHSWpJrG02Q/iPD9jHD+Y4NjAIW3ynLXxYO/PPP39//2wGOI/fpIvsuOOOuQ/GXRZ85u4LmyOLBCQgAQlIoJsE/rWCl3+IF1xwwfTmm29mvgjB+eabL7311lv9vIl8rbLKKv2f4w2C54wzzshiMaKaiAREWTyAdN1116Vpp502RxCjHcIAITFYIeKF2ECUR/4wkch11lknRwOJSC6xxBI5gha2iBQisBFF+LfNNtskfIhCBHrrrbfOogWbCBbGRmSWghhBuN1+++3RpOkR0YkAj7HTH+IHUYSY5IUALPtHDCNiI1KJcXwgAlotCKrFFlssiyQi0hRSH4IH4hnBR6QzCnbYECC28If3jCei3NRlft95551oko+IsTKPmLFVy84775xIb4nCuMtoJkKR9IWbbropqiSixEsttdSAObwIa1JmiFSXhY0Emw84UuiPz/ClsJlaeumlc5SYzwhkBDER40b+50bFf9hQcOcCjlGIMrMGWHuIXDZpEXnFTzZQMVd8d5jvKLAtUxquvfbavLmKqC75zGw+q2uLPkqhHPY8SkACEpCABDpNYNgKXiKas802W5pmmmly/i45vAgQhCmFCBSRsSiIFgRw3FbnfLMcXm73Ih65nRwFgUM0L6KUiD1EUHm7GiHGa6CCYEHg8MsBiIx48h2xc8opp+Smo0ePztFS+oyCOFlppZXS3XffnU8NJniJ7CKqQ9TQL76FiA271WMjQcW5iy66KAsyfGpV8A6Ww1umgBA9J1qOf7Ag6loWhCzRYiL61Fl11VXTOeec018FHxlr6T/vEZKl4O1v8P83RGsRzjFvZfuoyznm6oorrohTed6b5fBGJeaWOSsFL4Id34kAl4W1yAaFMTD/bBYiYsomAlF+zz33jDO+sn35HpaMO0o5JjYyRMZvvfXWcWyx4SBKTWoDIp00hSikQ5SCl8jxZZddFpfzEX8RuJToD6bVORmnkR8kIAEJSEACHSIwbAUv0SsEUAjGKi8E77777tt/ekIEL9FgHoCbccYZs6hGWPNaZpll8m13jCJ4Edil4O3vrIU3RCaJPhIZRdAgjOKWMre0uRbCAXMIB4RI3J5vRfASpaNdO+Wuu+5Kc889d//4+bUBNhBEZDsleMvNRwhexozwJb+6LGxkEITk7lKnKnjLuvGeegMJXsQzdiIqHLwRakT4ieDPPvvsmcHkk0/eMcHLXJeCEn/ZyLDmWKeI8KEIXiLlbHgalVh3bBjLQnSXNBWiyfhHekaUELxEepn/ddddNz8wGt8LjqR3NHpAMWx4lIAEJCABCXSTwLAWvAPl8LYieHkoh1xQom5l4TMRNa43K0MVvKQd4CPRR/ItuWUd5Y477siiovSLyBuCG8FHhLMqeEnPIAqJaMY2gqddwcvDb0T0SlHEg0sI0WYRXnxGkJcpDUQMq8KVMZIfXf2VhhC8iE3ya9mshAClDXmw/IQcgq1RhDfYlceBBC+34+GDuKSUfRHJRcDFLXuuk0NcRnjhQI4yD301K40ivGxAyDcmR7gsRHyJnFKInrYjeGMM2CY9prxDEH2xjsitZb6iPuuFXGJEPukJtI07CbQj3aZMTSC3vBqhDvthk8/kytNPpG5EHY8SkIAEJCCBThNQ8P6faKMILxGrBRZYYJx/3PkHG0FFxGunnXbqf9CnOjFDFbzYQ8Qh/IiolfmWCBXEHZHeKAhHbr3jHy8E4fHHH58vE4Fba621sgBDEA5V8BJ1LnNPX3rppbTiiium/fbbL0f4EG0IMh7qojAOot3LL7/8OE/7IyZ5kC9+4SDGMpDgRRwReSV6H4KbqCIiK/pjfEOJ8DK/5OPy0BX5q9VCji3jR/xRl5zaueaaaxzBSxtSXHg1K40EL3VJlSHHlvQCCjm3cIoUmnjgrd2UBu5QkAPMg5lR2MTEHQRSJsjBRvyyloi0I8LjJ/3iQTbakgO+xRZb5Ogz3xcKmyvSOQZ7GI1NIw+tvfzyy+GGRwlIQAISkEBXCAxbwYsY4pY7DypxK5gXIijyJVuJ8EIc4TPDDDPk/F6EZ/x8E9FVIo384H7YRxSEQBqK4EVkUIggrr/++lncVlMPECdEbImsMU5+jQCBEgXxwUNi+MYDXIwDgdGJCC9RVkQfOc/8ygHiOh5kQnziP2KHfvl1AzYGRDrhU4pb3pNSMOecc+ZxxENZPHjXLMKLfUQmt9SJoOIDc4xIQ+hSBhO8PKhI9J+2/FYzaQn4SR4yY4uHAmeeeeb+uWWeQ1Az92wuaIOQJ7LLhqKM8OIHrJdbbrm8aWKOiNbjO7nJCELmjrWF/whchHMU5mvWWWfN/dMH/GJ8QxW89AFjNg30zTiI3sYa48gvksTaZjPDT4zFumRzyNojyk00mLnmuxW/IsEYifrySyOsPzhzp4SNTFniwVE2YRYJSEACEpBANwkMS8E7GLD4h5t6vC8/x7nyWLXXqE1Zp5m9sk4r74ngEcnldj4l7MaxmY3BrlfbTUh96g5WfyjXq21b6S/G06huI3tRv51joz5KO9FfHMtrrbwfyH4jm43ODdZPszbR90DXW7HdrD1t41ocw171c5z3KAEJSEACEugEgX+l4O0EuIlhg6gevw9MRM0iAQlIQAISkIAEJNAeAQVve9y62oqcWFIuELv8zxYoRsC6ilzjEpCABCQgAQkMYwIK3h6cXHId+T+plb9D24Nu6pIEJCABCUhAAhKoBYFhKXgnm2yyNOWUU9b6NdVUUyVedR+H/td7HTp/zp9rwDXgGnANDIc1MCwF76STTlqL3YZOSkACEpCABCQgAQl0n8CwFLwjRozoPjl7kIAEJCABCUhAAhKoBQEFby2mSSclIAEJSEACEpCABNoloOBtl5ztJCABCUhAAhKQgARqQUDBW4tp0kkJSEACEpCABCQggXYJKHjbJWc7CUhAAhKQgAQkIIFaEFDw1mKadFICEpCABCQgAQlIoF0CCt52ydlOAhKQgAQkIAEJSKAWBBS8tZgmnZSABCQgAQlIQAISaJeAgrddcraTgAQkIAEJSEACEqgFAQVvLaZJJyUgAQlIQAISkIAE2iWg4G2XnO0kIAEJSEACEpCABGpBQMFbi2nSSQlIQAISkIAEJCCBdgkoeNslZzsJSEACEpCABCQggVoQUPDWYpp0UgISkIAEJCABCUigXQIK3nbJ2U4CEpCABCQgAQlIoBYEFLy1mCadlIAEJCABCUhAAhJol4CCt11ytpOABCQgAQlIQAISqAWBYSl4J5lkkjRixAhfMnANuAZcA64B14BrwDXgGkjDTvCOHTu2FjsNnZSABCQgAQlIQAISmDgEhp3gnTjY7EUCEpCABCQgAQlIoC4EFLx1mSn9lIAEJCABCUhAAhJoi4CCty1sNpKABCQgAQlIQAISqAsBBW9dZko/JSABCUhAAhKQgATaIqDgbQubjSQgAQlIQAISkIAE6kJAwVuXmdJPCUhAAhKQgAQkIIG2CCh428JmIwlIQAISkIAEJCCBuhBQ8NZlpvRTAhKQgAQkIAEJSKAtAgretrDZSAISkIAEJCABCUigLgQUvHWZKf2UgAQkIAEJSEACEmiLgIK3LWw2koAEJCABCUhAAhKoCwEFb11mSj8lIAEJSEACEpCABNoi8D9Gd0agaj5bIgAAAABJRU5ErkJggg==)"
      ]
    },
    {
      "cell_type": "markdown",
      "metadata": {
        "id": "M4ExIcbNbpnO"
      },
      "source": [
        "Clique no link, conceda ao Google Colab acesso ao seu Drive e recupere o código de autorização. Cole e pronto!\n",
        "Agora você pode acessar seus arquivos do Google Drive em:\n",
        "\n",
        "    /content/gdrive/My Drive/\n",
        "\n",
        "Use o comando batch !cd ou o painel “Files” à esquerda."
      ]
    },
    {
      "cell_type": "markdown",
      "metadata": {
        "id": "FVuKIxQd2hGy"
      },
      "source": [
        "## Upload / Download arquivos\n",
        "\n",
        "Para upload um arquivo (ou vários) a partir de seu computador, execute:"
      ]
    },
    {
      "cell_type": "code",
      "metadata": {
        "id": "ljQAhNzjRzJr",
        "colab": {
          "resources": {
            "http://localhost:8080/nbextensions/google.colab/files.js": {
              "data": "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",
              "ok": true,
              "headers": [
                [
                  "content-type",
                  "application/javascript"
                ]
              ],
              "status": 200,
              "status_text": "OK"
            }
          },
          "base_uri": "https://localhost:8080/",
          "height": 118
        },
        "outputId": "294e61f0-a7ef-46cd-cf0a-5347dbcfbccc"
      },
      "source": [
        "from google.colab import files\n",
        "files.upload()"
      ],
      "execution_count": null,
      "outputs": [
        {
          "output_type": "display_data",
          "data": {
            "text/html": [
              "\n",
              "     <input type=\"file\" id=\"files-b0a9943e-816f-4384-9eac-723cb0400586\" name=\"files[]\" multiple disabled\n",
              "        style=\"border:none\" />\n",
              "     <output id=\"result-b0a9943e-816f-4384-9eac-723cb0400586\">\n",
              "      Upload widget is only available when the cell has been executed in the\n",
              "      current browser session. Please rerun this cell to enable.\n",
              "      </output>\n",
              "      <script src=\"/nbextensions/google.colab/files.js\"></script> "
            ],
            "text/plain": [
              "<IPython.core.display.HTML object>"
            ]
          },
          "metadata": {
            "tags": []
          }
        },
        {
          "output_type": "stream",
          "text": [
            "Saving main.tex to main.tex\n"
          ],
          "name": "stdout"
        },
        {
          "output_type": "execute_result",
          "data": {
            "text/plain": [
              "{'main.tex': b'\\\\documentclass[12pt]{article}\\n\\n\\\\usepackage{sbc-template}\\n\\\\usepackage{graphicx,url}\\n\\\\usepackage[utf8]{inputenc}\\n\\\\usepackage[brazil,english]{babel}\\n\\\\usepackage[table,xcdraw]{xcolor}\\n\\n\\\\usepackage{url,xcolor,graphicx}\\n\\n\\\\newcommand{\\\\mike}[1]{\\\\textcolor{orange}{#1}}\\n\\\\newcommand{\\\\todo}[1]{\\\\textcolor{red}{#1}}\\n\\\\newcommand{\\\\ricardo}[1]{\\\\textcolor{blue}{#1}}\\n\\n% \\\\pagestyle{plain}\\n\\n     \\n\\\\sloppy\\n\\n\\\\title{Design Exploration of Machine Learning Data-Flows onto Heterogeneous Reconfigurable Hardware}\\n\\n\\\\author{Westerley C. Oliveira, Michael Canesche, Lucas Reis, Jos\\xc3\\xa9 Nacif, Ricardo Ferreira}\\n\\n\\n\\\\address{Departamento de Inform\\xc3\\xa1tica -- Universidade Federal de Vi\\xc3\\xa7osa\\n  (UFV)\\\\\\\\\\n  Avenida Peter Henry Rolfs -- 36.570-900 -- Vi\\xc3\\xa7osa -- MG -- Brazil\\n  \\\\email{\\\\{westerley.oliveira,michael.canesche,lucas.t.reis,jnacif,ricardo\\\\}@ufv.br}\\n}\\n\\n\\\\begin{document} \\n\\n\\\\maketitle\\n\\n\\\\begin{abstract}\\nMachine/Deep learning applications are currently on the center of researchers\\' attention everywhere, and finding means of accelerating these applications is comes in very handy. To perform this task, one could use techniques such as parallelizing routines on a GPU, FPGA, or CGRA. In this work, we explore the placement and routing of dataflow graphs present on Machine Learning applications onto three heterogeneous CGRA architectures. We compare our results with the homogeneous case and with one of the state-of-the-art P\\\\&R tools. For the set of benchmarks used, our algorithm executed on average 52\\\\% faster than VPR, returning very satisfactory results. \\\\ricardo{Furthermore, a heterogeneous architecture reduces the cost without losing performance in 76\\\\% of the cases.}\\n\\\\end{abstract}\\n     \\n\\\\section{Introduction}\\n\\n    Machine learning and deep learning applications such as convolutional neural networks (CNN), matrix multiplications,  and others are currently on the center of researchers attention everywhere and are used for the most diverse purposes such as image classification, time-series predictions among others. %These applications usually are very data-intensive and demand high computational power, hence there is also an enormous research effort in accelerating them. \\\\todo{[insert ref]} - Nao precisa....deixa aqui.....se tiver espaco voltamos com a frase - Ricardo\\n    To perform this task, different techniques are used such as parallelizing events on a GPU or on an FPGA. Furthermore, domain specific architecture as systolic array are a very efficient high parallelizable architecture widely used to compute matrix multiplications~\\\\cite{liu2020systolic}. However, systolic loses flexibility to gain efficiency. A coarse-grained reconfigurable architecture (CGRA) loses efficiency for specific tasks but provides flexibility to a broad range of applications.\\n    \\n    %Later on this work, we will present more discussion on the systolic array and our proposal to use it as a benchmark.\\n    \\n    This paper focuses on data-flow graph (DFG) mapping onto CGRAs that, like FPGAs, provide the customization capability of low-level logic systems but with an easier setup/design process. These advantages come from the fact that CGRAs are composed of more complex processing elements (PEs) that can be programmed at the word-level instead of bit-level like in FPGAs~\\\\cite{liu2019survey}. % Representing the applications\\' most computation-intensive parts as DFGs and then mapping them onto the CGRA\\'s set of PEs is the main process done by the CGRA compiler, as stated by~\\\\cite{dajiangReinforcement}. \\n    Besides all the flexibility of the CGRA, it can be very expensive depending on the chosen individual PE design or on the whole CGRA grid architecture. For example, PE\\'s with more interconnection options are usually more expensive, thus, architectures with less of those would end up cheaper. Most of CGRA architectures are homogeneous, meaning that every PE can execute any kind of instruction, what can be very expensive. In this work, we perform experiments on heterogeneous architectures to check whether they are suitable to perform the same tasks with similar performances and lower costs than the homogeneous ones. Our contribution is to provide a design exploration of homogeneous and heterogeneous CGRA for machine learning dataflow. We proposes three heterogeneous architectures. The key resources are the multipliers. The homogeneous architecture is our baseline to evaluate the trade-offs: interconnections, mapping time, buffer resources, and multiplier placement. Our main question is whether a mapping algorithm and a reconfigurable heterogeneous architecture are able to efficiently implement typical machine learning data-flows. Furthermore, we would like to evaluate the scalability of the mapping for medium size data-flows.\\n    %In section 2.6, we present different CGRA heterogeneous grid configurations that aim to lower the total cost of the setup.\\n\\n    %Dataflow graphs (DFGs) are structures that contain all the information about a certain routine arranged on a set of nodes and a set of edges. The nodes of the DFG represent the different operations that can be performed over a piece of data while the edges represent the data dependencies between the nodes. \\n    %As mentioned before, this paper focuses on finding means to map DFGs from machine learning applications to the CGRA. To do this, we utilize a Simulated Annealing based algorithm that aims to place the DFG nodes onto the CGRA grid while minimizing the total wire length. \\n    \\n    The paper will be organized as follows. Section \\\\ref{sec:background} will provide a brief description of the data-flow graphs, and Section~\\\\ref{sec:CGRA} presents the CGRA architectures we worked with. On section \\\\ref{sec:sa} we will discuss the placement algorithm and how we classified the solutions. Section \\\\ref{sec:experiments} will show our results and provide a few examples. Section \\\\ref{sec:relatedWork} we compare with others works.\\n    And finally on section \\\\ref{sec:conclusion} we will discuss our findings, concluding the paper and addressing directions for future work.\\n\\n\\\\section{Background} \\\\label{sec:background}\\n\\n\\\\ricardo{This Section provides the basic concepts and it is organized as follows. First, Section~\\\\ref{sec:Ml} presents the matrix multiplication data-flow, which is the most common ML workload. Section~\\\\ref{sec:systolic} introduces the systolic architectures and the trade-offs matrix size, performance and memory bandwidth. Section~  \\\\ref{sec:convolution} shows the convolution, which is also an important ML workload. Finally, Section~\\\\ref{sec:tree} draws some insights on embedding tree pattern in mesh architectures. }\\n    \\\\subsection{The ML data-flow graphs (DFGs)} \\\\label{sec:Ml}\\n    The graphs we worked with, as mentioned before, come from the most computationally intensive parts of machine learning applications. %These graphs, defined as G = (V,E), are composed of a set of nodes V, that contain information about the operation that the corresponding PE would apply on the data, and a set of edges E, comprising the data dependencies between each node \\\\todo{[ref]}. \\n    \\n    Each node can be for example a multiplier, an adder, a multiplexer, among a few others. Figure~\\\\ref{fig:simpledataflow} (a) shows an example of the data-flow graph for a 2x2  matrix multiplication $C = A \\\\times B$. Every clock cycle, two new matrices $A$ and $B$ are set as the data-flow inputs, and a new result $C$ is produced. The latency depends on the multiplier and adder latencies. Figure~\\\\ref{fig:simpledataflow} (b) shows a table that summarizes the number of I/Os, multipliers, adders, maximum fan-out for an $n \\\\times n$ matrix, where $n$ ranges from 2 to 8. The number of inputs, outputs, multipliers, adders and fan-out are $2n^2, n^2, n^3, (n^3 - n^2),$ and $n$, respectively. Therefore, the $4 \\\\times 4$ Nvidia tensor core has $64$ and $48$ adders, plus $16$ adders to perform $D=A \\\\times B + C$. %mostrar n=2,3,4 e 8.   %The nodes that have fan-in equal to 0 are considered an input node, while nodes that have fan-out equal to 0 are considered output nodes. These nodes are important because of architecture restrictions that will be discussed in Section~\\\\ref{sec:CGRA}.\\n    \\n    \\\\begin{figure}[!ht]\\n    \\\\centering\\n    \\\\includegraphics[width=.90\\\\textwidth]{pictures/matmul22normal.pdf}\\n    \\\\caption{(a)Dataflow graph for a full 2x2 matrix multiplication (b)Data summary for matrix multiplications up to 8x8}\\n    \\\\label{fig:simpledataflow}\\n    \\\\end{figure}\\n    \\n    The data-flow graphs that compose our set of benchmarks were selected among algorithms kernels that are often used in machine learning applications, such as matrix multiplications and convolutions. In addition, we selected binary trees since it is a common reduction pattern in ML.\\n    \\n    \\\\subsection{Systolic Array} \\\\label{sec:systolic}\\n    \\n    The systolic array is a parallel computing architecture designed to perform a specific task, such as matrix multiplications. It consists of a deeply pipelined network of PE\\'s that, with regular layout and local communication, can deliver a high throughput~\\\\cite{dajiangReinforcement}.\\n    \\n    The data-flow of Figure~\\\\ref{fig:simpledataflow} (a) can be implemented as a systolic array. However, it requires $O(n^3)$  multiplier/adder units and $O(n^2)$ I/O units to perform one matrix multiplication per cycle. Figure~\\\\ref{fig:systolic} (a) exemplifies a different approach for a 3x3 systolic matrix multiplication with $O(n^2)$ multiplier/adder units  and $O(n)$ I/O units, which requires $O(n)$ cycles to compute a matrix multiplication. This approach reduces the I/O requirements. The PE\\'s on the leftmost column receive the elements of each row of the matrix A, which will be multiplied by the elements of matrix B, that are stored in each PE. After that the result is added to the result of the upper PE and sent to the next one. The bottom PEs will at each clock cycle release an element of the result matrix C.\\n    An FPGA implementation for this design  was presented in~\\\\cite{wei2017automated}.\\n\\n    On Figure~\\\\ref{fig:systolic} (b) we can see how the data-flow graph for this systolic implementation. The multipliers of the PE\\'s on the left are colored in dark grey and represent the input nodes, while the adders of the bottom PE\\'s are the output nodes. Our approach is more flexible, where both matrix multiplier designs (see Figure~\\\\ref{fig:simpledataflow} and Figure~\\\\ref{fig:systolic}) could be implemented. It is also interesting to implement sparse matrix multiplication. Recent work~\\\\cite{qin2020sigmasparsematrix} shows that most  matrices are irregular and sparse in deep learning workloads, which could lead to poor mappings on systolic architectures, and in addition,  matrix multiply operations consume around 70\\\\% of total runtime.\\n\\n    % MOVER PARA A SECAO DE RESULTADOS. The benchmarks matmul22, matmul33, matmul44, matmul55 and matmul66 were extracted this way, representing matrix multiplications of 2x2 to 6x6 matrices.\\n    \\n    \\\\begin{figure}[!ht]\\n    \\\\centering\\n    \\\\includegraphics[width=.99\\\\textwidth]{pictures/sistolico33.pdf}\\n    \\\\caption{(a) Configuration of a systolic array for matrix multiplication (b) Representation as a data-flow graph}\\n    \\\\label{fig:systolic}\\n    \\\\end{figure}\\n    \\n   \\n    \\\\subsection{Convolutions} \\\\label{sec:convolution}\\n    \\n    The convolution operation has been considered one of the essential operations in image processing systems and other applications that use convolution neural networks (CNN)~\\\\cite{jo2017dsip,krizhevsky2012imagenet}. However, the number of computations grows very fast according to the size of the convolution kernel. This has made researchers~\\\\cite{wei2017automated,chen2014diannao,jo2018energy} strive to reduce the cost of these operations. \\n    \\n    \\\\begin{figure}[!ht]\\n    \\\\centering\\n    \\\\includegraphics[width=.70\\\\textwidth]{pictures/conv33.pdf}\\n    \\\\caption{Convolution with K=3 data-flow graph}\\n    \\\\label{fig:conv}\\n    \\\\end{figure}\\n    \\n    A convolution DFG is a simple reduction tree of multipliers and adders as shown in Figure~\\\\ref{fig:conv} for a $3 \\\\times 3$ filter. The register layer on this example is present to balance the latency of the reduction tree and the multiplier layer, so the whole DFG returns 1 result after 2 clocks. Having these in mind, Section~\\\\ref{sec:tree} focus on how to embed trees in two dimensional architectures. \\n    A reduction tree has a small data reuse (factor 2) due the large number of inputs in comparison to the total number of operations. However, there are opportunities for data reuse as a larger number of convolution filters over the same input data are presented in most CNN designs.\\n    \\n    %Our approach here is to take the convolution DFG, (a k=3 convolution is showed as an example on Figure~\\\\ref{fig:conv}), and produce a fast quality solution to the CGRA. \\\\todo{(DETALHAR MELHOR A CONVOLU\\xc3\\x87\\xc3\\x83O, K ETC)}\\n    \\n    \\n   \\n    \\n    \\\\subsection{Trees} \\\\label{sec:tree}\\n    \\n    Data-flow graphs are not random graphs, and tree patterns are frequently found in parallel algorithms to implement the reduce steps of map-reduce algorithms. The question is how to embed a tree connection pattern in a fully-pipelined mesh architecture?  In VLSI circuit research, a well-known approach to balance delay times is the H-tree, which is a self-similar fractal~\\\\cite{browning1980tree}, as shown in Figure~\\\\ref{fig:treeleechoi}(a). Although it has a symmetric layout, the occupancy rate is low, where there are many bypassing cells. For a tree with 16 leaves and 31 nodes in total, the total area is 49 cells, and there are 6 long wires ($cost=1$ due a bypassing cell) shown in bold in Figure~\\\\ref{fig:treeleechoi}(a). As the long wires or bypassing cells are equally distributed, and the tree is fully balanced, there is no delay mismatch, and therefore, there is no need to include buffers to equalize the pipeline path lengths.\\n    \\n    \\\\begin{figure}[!ht]\\n    \\\\centering\\n    \\\\includegraphics[width=1\\\\textwidth]{pictures/treeleechoi.pdf}\\n    \\\\caption{(a) 7x7 mesh and the H-tree configuration; (b) Lee/Choi tree in a 6x6 mesh.}\\n    \\\\label{fig:treeleechoi}\\n    \\\\end{figure}\\n    \\n    Lee and Choi~\\\\cite{leechoi1996embedding} propose an algorithm to reduce the total area, as shown in Figure~\\\\ref{fig:treeleechoi}(b), where the same tree requires only 36 nodes in a $6\\\\times6$ mesh. Nevertheless, the Lee/Choi tree has different path lengths from the leaves to the root, and it requires nine long routing wires, where two of them have $cost=2$. When there is a long wire in one pipeline path that converges to one node, we should insert a buffer in the other path to equalize the delay.  The black rectangular boxes at the bottom tree in Figure~\\\\ref{fig:treeleechoi}(b) represent these delay buffers. The worst case is a buffer of size $2$, at the third level.\\n    \\n   \\n    \\n    \\n    % falado nos resultados - To compose our benchmark set we chose complete trees with 15, 31 and 63 nodes that were arranged on 1, 2 3 or 4 connected components. \\n    \\n    % \\\\subsection{K-means}\\n    \\n    % K-means clustering is a very popular algorithm that aims to subdivide a number of sample observations of dimension (N) into a defined number of clusters (K). For a sample to belong to a group, its centroid must be the closest one. The problem we have with K-means is that when he have a large number of cluster and/or a large sample dimension, the amount of computations to calculate the distances become very big~\\\\cite{he2020km}. On the other hand, the fact that K-means is a kind of mapreduce algorithm makes it a very parallelizable algorithm, thus very suitable to what we are proposing. \\n    \\n    % For ou K-means set of benchmarks we chose to vary K and N separably in the following manner. First we fixed K=4 and varied N from 4 to 8, then we fixed N=4 and varied K from 4 to 8, similarly. An example for k4n4 is presented on \\\\todo{[Figura k4n4]}\\n    \\n\\\\section{The CGRA}\\\\label{sec:CGRA}\\n    \\n    Unlike FPGAs, that work at a bit level, CGRAs work at a coarse grain, meaning they work at the word level. This fact brings benefits such as the reduced mapping for a more complex architecture, but on the other hand, very few commercial architectures and design toolchains are available\\\\cite{liu2019survey}.\\n    \\n    We can categorize CGRA architectures into homogeneous and heterogeneous. Homogeneous in this case means that every PE that is present on the grid is identical to one another. Thus, each of those PEs are able of performing the same kind of operations regardless on the grid. In contrast, a heterogeneous configuration present two or more different types of PE\\'s that can perform also different kinds of operations.\\n    \\n    It seems very straightforward that having a homogeneous configuration is the best way to go because it is less restricted, allowing placements to be performed easier. However this makes the cost of the whole architecture to be high since every PE should be able to perform all operations. On this work we propose a design exploration of three types of heterogeneous CGRA architectures and compare the results against the homogeneous case.\\n    \\n    In our scenarios, the operation that causes a single PE to be more expensive is the multiplication~\\\\cite{luo2000cost}, therefore we divided our PE\\'s into 2 groups, the ones that can perform a multiplication, and the ones that can not.\\n    \\n    In Figure~\\\\ref{fig:heterogs}(a), all the PE\\'s that are present are identical an can perform multiplications, those are represented by a grey-scale square. Figure~\\\\ref{fig:heterogs}(b) however, shows multiplier PE\\'s disposed as in a checkerboard, where nodes immediately adjacent to a special PE do not have a multiplier. We also have a column-wise configuration presented on Figure~\\\\ref{fig:heterogs}(c) and one on which the multipliers are set to be on the borders of the grid Figure~\\\\ref{fig:heterogs}(d). At this point it is worth noting that for all of these cases the IO nodes of the data-flow graph must be placed on the borders of the grid as well.\\n    \\n    \\\\begin{figure}[!ht]\\n    \\\\centering\\n    \\\\includegraphics[width=.75\\\\textwidth]{pictures/heterogs.pdf}\\n    \\\\caption{(a) a homogeneous grid; (b) checkerboard; (c) columns; (d) borders.}\\n    \\\\label{fig:heterogs}\\n    \\\\end{figure}\\n    \\n    In addition to the heterogeneous setups proposed, we also perform a design exploration on three different interconnection architectures. Mesh, the most simple, in which each PE can communicate with its 4 immediate neighbours without extra wires. Mesh-plus can jump one cell in each direction, in addition to the four connections present in mesh. And on the hexagonal configuration each PE\\'s can access 6 other PE\\'s around it, resembling a honeycomb pattern. Figure~\\\\ref{fig:meshhop} illustrates these architectures.\\n    \\n    \\\\begin{figure}[!ht]\\n    \\\\centering\\n    \\\\includegraphics[width=.95\\\\textwidth]{pictures/meshhop.pdf}\\n    \\\\caption{(a) Mesh; (b) Mesh-plus; (c) Hexagonal;}\\n    \\\\label{fig:meshhop}\\n    \\\\end{figure}\\n\\n\\\\section{Mapping} \\\\label{sec:sa}\\n    \\n    We divided the mapping problem into two phases as described in the following. First, to find a good placement solution for each proposed data-flow graph we used a simulated annealing (SA) approach that aims to minimize the wire-length used, similar to previous approaches~\\\\cite{mei2003adres}. %In other words, nodes that are related on the graph should be as close as possible in the grid. \\n    \\n    This was done by checking, at each iteration of the algorithm, if the cost of swapping two nodes would increase or decrease the total length cost of the solution, always keeping track of the positions of the graph\\'s multipliers and IOs.\\n    \\n    After that, %and in possession of these potentially good solutions, \\n    we proceed to the routing phase, which aims to validate the solution by identifying a viable routing that demands the least amount of delay buffers per PE, since that is crucial to the total cost of the architecture, even more than the total wire-length~\\\\cite{hybridPACT2018}. \\n    \\n    For most data-flow edges, the routing is straightforward as the nodes are placed in adjacent cells. Therefore, only a small subset of edges require a routing strategy, where we implement the maze routing algorithm~\\\\cite{park2008edge}.\\n    \\n    \\n\\\\section{Experiments and Results} \\\\label{sec:experiments}\\n\\n    Table~\\\\ref{tab:benchs} summarizes the becnhmarks we used on our experiments. A graph for a binary tree benchmark is denoted for example tree\\\\_n\\\\_X\\\\_t\\\\_X, where the number following n denotes the number of nodes on each connected component, and the number following t is the number of connected components. So, following this notation, tree\\\\_n\\\\_31\\\\_t\\\\_3 is a graph that has 3 binary trees of 31 nodes each. Next we have systolic matrix multiplications and a classic matrix multiplication like the one showed on Figure\\n   ~\\\\ref{fig:simpledataflow}. Last, we have convolutions ranging up from $2 \\\\times 2$ matrices to $5 \\\\times 5$ matrices.\\n    \\n    \\\\begin{table}[!ht]\\n    \\\\centering\\n    \\\\caption{List of benchmarks}\\n    \\\\begin{tabular}{cccccc}\\n    \\\\hline\\n    Benchmarks          & Nodes & Mults & Benchmarks & Nodes & Mults\\\\\\\\ \\\\hline\\n    tree\\\\_n\\\\_15\\\\_t\\\\_1  & 15    & 8      & matmul22           & 8     & 4      \\\\\\\\\\n    tree\\\\_n\\\\_31\\\\_t\\\\_1  & 31    & 16     & matmul33           & 18    & 9      \\\\\\\\\\n    tree\\\\_n\\\\_63\\\\_t\\\\_1  & 63    & 32     & matmul44           & 32    & 16    \\\\\\\\\\n    tree\\\\_n\\\\_127\\\\_t\\\\_1 & 127   & 64     & matmul55           & 50    & 25    \\\\\\\\\\n    tree\\\\_n\\\\_15\\\\_t\\\\_2  & 30    & 16     & matmul66           & 72    & 36    \\\\\\\\\\n    tree\\\\_n\\\\_31\\\\_t\\\\_2  & 62    & 32     & matmul22normal     & 24    & 8    \\\\\\\\\\n    tree\\\\_n\\\\_63\\\\_t\\\\_2  & 126   & 64     & convolution22      & 11    & 4    \\\\\\\\\\n    tree\\\\_n\\\\_15\\\\_t\\\\_3  & 45    & 24     & convolution33      & 26    & 9    \\\\\\\\\\n    tree\\\\_n\\\\_31\\\\_t\\\\_3  & 93    & 48     & convolution44      & 47    & 16    \\\\\\\\\\n    tree\\\\_n\\\\_15\\\\_t\\\\_4  & 60    & 32     & convolution55      & 74    & 25    \\\\\\\\ \\n    tree\\\\_n\\\\_31\\\\_t\\\\_4  & 124   & 64     &\\\\\\\\ \\\\hline\\n    \\\\end{tabular}\\n    \\\\label{tab:benchs}\\n    \\\\end{table}\\n    \\n    For all the benchmarks the placement algorithm aimed to minimize the square area used. For instance, considering an  homogeneous grid and a graph with 18 nodes, the smaller grid is a $5 \\\\times 5$ architecture. For the heterogeneous ones, the minimal size will be fixed by the minimal number of I/Os, multipliers and/or general purpose PE\\'s. %However, due to the IO and heterogeneous restrictions, some of the graphs could not be placed onto the smaller grid possible.\\n    \\n    Take for instance the borders heterogeneous model in Figure~\\\\ref{fig:heterogs}(d), if the side of the grid has size N, one could place at most 4*(N-1) multipliers on its borders. Thus, if a graph happened to have more multipliers than slots available, we had to nudge the dimensions of the grid so it could fit. This happened for example on the bigger tree graphs where there are many leaves as inputs.\\n    \\n    \\\\subsection{Trees}\\n    \\n    An interesting result of our mapping approach is the pattern that the graph tree\\\\_n\\\\_4\\\\_t\\\\_15 took after the placement onto the homogeneous grid. The trees followed at first the H-tree pattern starting from the root and then took a form almost like a puzzle piece. These \"puzzle pieces\" then arranged themselves in such a way that they could fit tightly into the grid, using it with an occupation of 93.75\\\\% on a $8 \\\\times 8$ grid against an occupation of 71.43\\\\% on a $7 \\\\times 12$ grid for the H-tree configuration. Therefore, we reduce the area in 31.25\\\\% in comparison to the h-tree. For the same instance, the Lee/Choi~\\\\cite{leechoi1996embedding} requires 12.5\\\\% more area with buffer size 2. Our approach does not require buffers in this case. An illustration of this solution is shown on Figure~\\\\ref{fig:4trees}.\\n    \\n    \\n    \\\\begin{figure}[!ht]\\n    \\\\centering\\n    \\\\includegraphics[width=.75\\\\textwidth]{pictures/4trees.pdf}\\n    \\\\caption{Puzzle-piece pattern for balanced trees on a homogeneous grid}\\n    \\\\label{fig:4trees}\\n    \\\\end{figure}\\n    \\n    \\n    \\n    \\\\subsection{Data-flows}\\n    \\n    As a reference to evaluate our simulated annealing implementation, we will compare to the VPR tool~\\\\cite{vtr8}, the state-of-the-art on SA for FPGA. However, our target is a CGRA, although VPR was developed for FPGA, it still out-performs recent CGRA mapping as presented in the CGRA-ME design exploration tool~\\\\cite{chin2018architecture}. VPR was executed 1000 times for each graph, each time using a different random seed. Other parameters were all set to the tool\\'s standard. Among the 1000 results, the one with the lowest buffer size cost was chosen.\\n\\n    \\n    Figure~\\\\ref{fig:time} shows a comparison between the runtime (1000 executions) for our placement and the one performed on VPR. It is clearly notable that for all benchmarks, our algorithm outperforms VPR. Specially for the largers graphs, such as tree\\\\_n\\\\_31\\\\_t\\\\_4, VPR ends up being very slow, while we were able to perform the placement way faster. \\\\ricardo{In 23.5\\\\% percent of the VPR time for that particular case. - Estranho aqui, melhorar a frase, estilo our SA is on average XX faster than VPR....faltou falar em qual computador foi medido, compilado, se usou OpenMP ou nao...etc....}\\n    \\n    \\\\begin{figure}[!ht]\\n    \\\\centering\\n    \\\\includegraphics[width=.7\\\\textwidth]{pictures/time.pdf}\\n    \\\\caption{Runtime comparison between VPR and Simulated Annealing}\\n    \\\\label{fig:time}\\n    \\\\end{figure}\\n    \\n    The main goal of this work was performing a design exploration of heterogeneous CGRAs. Considering the minimal grid size, Figure~\\\\ref{fig:fifographs}(a)(b)(c) shows the minimal number of buffers needed for our algorithm and VPR (both on the homogeneous grid).   \\n    Note that for the majority of the cases, our algorithm performed as good or better than VPR, with the exception of the mesh configuration. On Figure~\\\\ref{fig:fifographs}(d) we present a summary of how many times our simulated annealing or VPR won, alongside the net count of those results. For instance, considering the mesh-plus interconnection, our approach is better in 6 out of 21 graphs, VPR is better in 2 cases, and we reach the same buffer size in 13 graphs.  \\n    \\n    \\n    \\\\begin{figure}[!ht]\\n    \\\\centering\\n    \\\\includegraphics[width=1\\\\textwidth]{pictures/fifographs.pdf}\\n    \\\\caption{Comparison between homogeneous Simulated Annealing approach and VPR8~\\\\cite{vtr8}.}\\n    \\\\label{fig:fifographs}\\n    \\\\end{figure}\\n    \\n    Our first experiment was the baseline to evaluate the heterogeneous architectures, as a homogeneous solution will be the lower bound. %Since our homogeneous approach is very close to VPR, \\n    We compare the three heterogeneous architectures (checkerBoard, cols, borders). Firstly, we looked at the buffer size needed while using the three kinds of interconnections as depicted in Figure~\\\\ref{fig:meshhop}. In this case, one can infer that most of the graphs performed similarly to the homogeneous case with just a few exceptions like tree\\\\_n\\\\_127\\\\_t\\\\_1, in which the borders architecture demanded one buffer more than the homogeneous. \\n    \\n    Next, we evaluated the buffer size needed on the heterogeneous architectures for the three interconnection patterns. These results are displayed alongside the homogeneous case on Figure~\\\\ref{fig:heterogFIFOS}(a)(b)(c). Note that for the majority of the benchmarks there is a heterogeneous setup that performs as good as the homogeneous. In some cases, again on the larger graphs, it is harder to outperform the homogeneous case, but we still got pretty close results. A summary with the amount of times that each heterogeneous configuration wasn\\'t able to perform as good as the homogeneous is presented on Figure~\\\\ref{fig:heterogFIFOS}(d), \\\\ricardo{where 2/21 for the mesh interconnection and the heterogeneous architecture checkerboard means that the homogeneous one is only better than heterogeneous in 2 out of the 21 graphs. The last line in Figure~\\\\ref{fig:heterogFIFOS}(d) summarizes these totals for each heterogeneous architecture. The border-based and the checkerboard are more suitable for our benchmark set. This is an interesting result since most of FPGA use column patterns as an heterogeneous design to place the memory and DSPs.}\\n    \\n    \\\\begin{figure}[!ht]\\n    \\\\centering\\n    \\\\includegraphics[width=1\\\\textwidth]{pictures/heterogsfifos.pdf}\\n    \\\\caption{Number of FIFO\\'s on heterogeneous architectures}\\n    \\\\label{fig:heterogFIFOS}\\n    \\\\end{figure}\\n    \\n    \\n    \\\\section{Related Work} \\\\label{sec:relatedWork}\\n    \\n    Most CGRA mapping approaches focus on a processing element (PE) architecture that is shared by multiple instructions in a time-multiplexed  fashion~\\\\cite{mei2003adres,park2008edge} for homogeneous architectures. In general, the architecture size is small, where the most usual size is a $4 \\\\times 4$ grid. Therefore, the maximum number of parallel operations is $4x4=16$. Furthermore, the PE should have the capability to decode the instructions from a local instruction memory, which consumes area and power. On the other hand, fully pipelined architectures are configured once before the execution, and the PE will be dedicated to evaluate a single operation, saving area and power. Moreover, the architecture sizes are larger than 16 PEs and the maximum number of parallel operations are bound by the grid size. Therefore, this work focus on fully pipelined architectures (FPAs). \\n    \\n    The mapping problem for FPAs is a hard problem. A recent work~\\\\cite{hybridPACT2018} shows that integer linear programming (ILP) and satisfiability modulo theory (SMT) approaches are very expensive in terms \\n    of computation time, which could take several minutes for small size graph (less than 20 nodes). These approaches solves the exact problem. Heuristics could be used.\\n    Even by using a hybrid approach (ILP plus heuristics)~\\\\cite{hybridPACT2018,weng2020dsagen} to solve the mapping in a reasonable time (a few seconds) for homogeneous FPAs, the FPA should have a large buffers (more than 7 slots). Our approach shows that it is possible to saves area by providing design exploration of heterogeneous architecture and small buffers sizes (2 or 3). \\n    \\n    A design exploration framework named CGRA-ME was presented in~\\\\cite{chin2018architecture}. However, the main drawback is the maximum data-flow graph size (less than 25 nodes) and the mapping time (minutes to hours). The mapping strategies has two options:  ILP and  simulated annealing (SA). However, the SA implementation is inefficient in terms of execution time. VPR~\\\\cite{vtr8} is the state-of-the-art for simulated annealing for FPGA. Our approach is also\\n    based on SA, and our results are competitive to VPR in terms of quality and execution time. \\n    \\n    \\n    \\\\section{Conclusion} \\\\label{sec:conclusion}\\n    \\n    The results for the heterogeneous setups shows us that it is possible to find good enough placements, for the graphs tested in this work, that reduce the amount of multiplier resources on the CGRA grid, therefore reducing its overall cost. A few other experiments that could be done, and will be explored in future work, consists on fixing some of the multipliers and/or I/Os on a good position, found on a pre-processing stage. This could be done on graphs the possess a regular and repetitive structure, such as the systolic array, and this approach could guide the simulated annealing to a better or even an optimal solution. Future work could also include data-flow merging which identifies graph similarities to generate a simple and dedicated reconfigurable architecture by minimizing the routing resources~\\\\cite{moreano2005efficient}.\\n    \\n    \\\\bibliographystyle{sbc}\\n    \\\\bibliography{sbc-template}\\n    \\n    \\\\end{document}\\n'}"
            ]
          },
          "metadata": {
            "tags": []
          },
          "execution_count": 1
        }
      ]
    },
    {
      "cell_type": "markdown",
      "metadata": {
        "id": "go6EsCXOSBlq"
      },
      "source": [
        "Para fazer o download de um arquivo, execute:"
      ]
    },
    {
      "cell_type": "code",
      "metadata": {
        "id": "_PHhnI12SO0A"
      },
      "source": [
        "from google.colab import files\n",
        "files.download('/content/path_file')"
      ],
      "execution_count": null,
      "outputs": []
    },
    {
      "cell_type": "markdown",
      "metadata": {
        "id": "lu3B9RJhygjV"
      },
      "source": [
        "< [Seção 1 - Sumário](https://colab.research.google.com/drive/1eYk9GFgFsLnfxQVMHphMyztFc0GIuZYS?usp=sharing) | [Índice Geral](https://colab.research.google.com/drive/1eYk9GFgFsLnfxQVMHphMyztFc0GIuZYS#scrollTo=vQ_qJrHy7Omj) | [Seção 3 - Introdução a GPU Parte I](https://colab.research.google.com/drive/1XagOrP8yObxfnG1E74O3uuzSeyrGuDUm?usp=sharing) >"
      ]
    }
  ]
}